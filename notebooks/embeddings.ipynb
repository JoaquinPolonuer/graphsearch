{
 "cells": [
  {
   "cell_type": "code",
   "execution_count": 1,
   "id": "17b02592",
   "metadata": {},
   "outputs": [
    {
     "name": "stdout",
     "output_type": "stream",
     "text": [
      "/Users/joaquinpolonuer/Documents/software/tesis/zitnik/rags/graphsearch\n"
     ]
    }
   ],
   "source": [
    "%cd .."
   ]
  },
  {
   "cell_type": "code",
   "execution_count": null,
   "id": "e3f26a41",
   "metadata": {},
   "outputs": [],
   "source": [
    "import torch\n",
    "from src.utils import iterate_qas, load_embeddings, load_graph_and_qas, setup_results_dir\n",
    "from src.experiments.utils import semantic_sort"
   ]
  },
  {
   "cell_type": "code",
   "execution_count": 13,
   "id": "fd6047c2",
   "metadata": {},
   "outputs": [],
   "source": [
    "graph_name = \"prime\"\n",
    "graph, qas = load_graph_and_qas(graph_name)\n",
    "doc_embeddings, query_embeddings = load_embeddings(graph_name)\n",
    "results_dir = setup_results_dir(graph.name, \"ada002\")\n"
   ]
  },
  {
   "cell_type": "code",
   "execution_count": 26,
   "id": "878d27ae",
   "metadata": {},
   "outputs": [],
   "source": [
    "question_id, question, answer_indices = iterate_qas(qas)[2]\n",
    "question_embedding = query_embeddings[question_id]\n",
    "ada002_indices = semantic_sort(doc_embeddings.keys(), question_embedding, doc_embeddings)[:10]\n"
   ]
  },
  {
   "cell_type": "code",
   "execution_count": 27,
   "id": "e34f7716",
   "metadata": {},
   "outputs": [
    {
     "data": {
      "text/plain": [
       "\"I'm looking for tablet or capsule medications for porphyrin metabolism disorders like Acute Intermittent Porphyria and others that target the UROD gene or protein. Any recommendations?\""
      ]
     },
     "execution_count": 27,
     "metadata": {},
     "output_type": "execute_result"
    }
   ],
   "source": [
    "question"
   ]
  },
  {
   "cell_type": "code",
   "execution_count": 28,
   "id": "ac7b3035",
   "metadata": {},
   "outputs": [
    {
     "data": {
      "text/plain": [
       "PrimeNode(name=UROD, index=7626, type=gene/protein)"
      ]
     },
     "execution_count": 28,
     "metadata": {},
     "output_type": "execute_result"
    }
   ],
   "source": [
    "graph.get_node_by_index(ada002_indices[0])"
   ]
  },
  {
   "cell_type": "code",
   "execution_count": null,
   "id": "f2d10b16",
   "metadata": {},
   "outputs": [],
   "source": []
  },
  {
   "cell_type": "code",
   "execution_count": null,
   "id": "74cefe6e",
   "metadata": {},
   "outputs": [],
   "source": []
  }
 ],
 "metadata": {
  "kernelspec": {
   "display_name": ".venv",
   "language": "python",
   "name": "python3"
  },
  "language_info": {
   "codemirror_mode": {
    "name": "ipython",
    "version": 3
   },
   "file_extension": ".py",
   "mimetype": "text/x-python",
   "name": "python",
   "nbconvert_exporter": "python",
   "pygments_lexer": "ipython3",
   "version": "3.11.12"
  }
 },
 "nbformat": 4,
 "nbformat_minor": 5
}
