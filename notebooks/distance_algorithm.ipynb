{
 "cells": [
  {
   "cell_type": "code",
   "execution_count": 3,
   "id": "961ebf00",
   "metadata": {},
   "outputs": [
    {
     "name": "stderr",
     "output_type": "stream",
     "text": [
      "/Users/joaquinpolonuer/Documents/software/tesis/zitnik/rags/graphsearch/notebooks/../graph_types/mag.py:83: DtypeWarning: Columns (3,11,12,13,15,16,23,25,29,32,34,35,36,39,40) have mixed types. Specify dtype option on import or set low_memory=False.\n",
      "  nodes_df = pd.read_csv(nodes_file)\n"
     ]
    }
   ],
   "source": [
    "import json\n",
    "import os\n",
    "import sys\n",
    "from pathlib import Path\n",
    "\n",
    "import torch\n",
    "\n",
    "sys.path.append(\"../\")\n",
    "\n",
    "import pandas as pd\n",
    "\n",
    "from config import DATA_DIR\n",
    "from graph_types.mag import MagGraph\n",
    "from src.llms.entity_extraction import extract_entities_from_question\n",
    "\n",
    "qas = pd.read_csv(DATA_DIR / \"02_qa_datasets/mag.csv\")\n",
    "mag_graph = MagGraph.load()\n",
    "doc_embeddings = torch.load(\n",
    "    DATA_DIR / f\"node_embeddings/{mag_graph.name}/text-embedding-ada-002/doc/candidate_emb_dict.pt\"\n",
    ")\n",
    "query_embeddings = torch.load(\n",
    "    DATA_DIR / f\"node_embeddings/{mag_graph.name}/text-embedding-ada-002/query/query_emb_dict.pt\"\n",
    ")\n"
   ]
  },
  {
   "cell_type": "code",
   "execution_count": 21,
   "id": "c2325972",
   "metadata": {},
   "outputs": [],
   "source": [
    "question_index = 123\n",
    "row = qas.iloc[question_index]\n",
    "question = row[\"question\"]\n",
    "question_embedding = query_embeddings[question_index][0]\n",
    "answer_indices = json.loads(row[\"answer_indices\"])"
   ]
  },
  {
   "cell_type": "code",
   "execution_count": 22,
   "id": "6d9c77af",
   "metadata": {},
   "outputs": [],
   "source": [
    "entities = extract_entities_from_question(question)\n",
    "\n",
    "central_nodes = []\n",
    "for entity in entities:\n",
    "    nodes = mag_graph.search_nodes(entity, k=1)\n",
    "    central_nodes.extend(nodes)"
   ]
  },
  {
   "cell_type": "code",
   "execution_count": 34,
   "id": "5a8949b3",
   "metadata": {},
   "outputs": [
    {
     "data": {
      "text/plain": [
       "'Looking for research papers co-authored by authors of \"Bimodal distribution of the magnetic dipole moment in nanoparticles with a monomodal distribution of the physical size\" focusing on the unconventional phase transition in unique materials described in the same study.'"
      ]
     },
     "execution_count": 34,
     "metadata": {},
     "output_type": "execute_result"
    }
   ],
   "source": [
    "question"
   ]
  },
  {
   "cell_type": "code",
   "execution_count": 45,
   "id": "0a408c44",
   "metadata": {},
   "outputs": [
    {
     "data": {
      "text/plain": [
       "{AuthorNode(name=Ben H. Erné, index=33814, type=author),\n",
       " AuthorNode(name=Bonny W. M. Kuipers, index=243701, type=author),\n",
       " AuthorNode(name=Jos van Rijssel, index=61131, type=author),\n",
       " FieldOfStudyNode(name=Condensed matter physics, index=1116339, type=field_of_study),\n",
       " FieldOfStudyNode(name=Demagnetizing field, index=1120271, type=field_of_study),\n",
       " FieldOfStudyNode(name=Dipole, index=1133173, type=field_of_study),\n",
       " FieldOfStudyNode(name=Magnetic anisotropy, index=1117036, type=field_of_study),\n",
       " FieldOfStudyNode(name=Magnetic dipole, index=1132780, type=field_of_study),\n",
       " FieldOfStudyNode(name=Magnetic nanoparticles, index=1123287, type=field_of_study),\n",
       " FieldOfStudyNode(name=Magnetization, index=1116982, type=field_of_study),\n",
       " FieldOfStudyNode(name=Nuclear magnetic resonance, index=1118568, type=field_of_study),\n",
       " FieldOfStudyNode(name=Paramagnetism, index=1127607, type=field_of_study),\n",
       " FieldOfStudyNode(name=Physics, index=1127241, type=field_of_study),\n",
       " FieldOfStudyNode(name=Single domain, index=1113289, type=field_of_study),\n",
       " PaperNode(name=Biomedical Nanomagnetics: A Spin Through Possibilities in Imaging, Diagnostics, and Therapy, index=1543375, type=paper),\n",
       " PaperNode(name=How the size distribution of magnetic nanoparticles determines their magnetic particle imaging performance, index=1345881, type=paper),\n",
       " PaperNode(name=Magnetic hyperthermia in phosphate coated iron oxide nanofluids, index=1644143, type=paper),\n",
       " PaperNode(name=Magnetic parameters evaluation of magnetic nanoparticles for use in biomedical applications, index=1837770, type=paper),\n",
       " PaperNode(name=Non-regularized inversion method from light scattering applied to ferrofluid magnetization curves for magnetic size distribution analysis, index=1515716, type=paper),\n",
       " PaperNode(name=Physical aspects of magnetic hyperthermia: Low-frequency ac field absorption in a magnetic colloid, index=1330009, type=paper),\n",
       " PaperNode(name=Simple models for dynamic hysteresis loops calculation: Application to hyperthermia optimization, index=1189797, type=paper)}"
      ]
     },
     "execution_count": 45,
     "metadata": {},
     "output_type": "execute_result"
    }
   ],
   "source": [
    "mag_graph.get_neighbors(central_nodes[0])"
   ]
  },
  {
   "cell_type": "code",
   "execution_count": 24,
   "id": "e0f396c4",
   "metadata": {},
   "outputs": [],
   "source": [
    "distances = pd.DataFrame(\n",
    "    columns=[\"src_index\", \"dst_index\", \"distance\"],\n",
    ")\n",
    "for node in central_nodes:\n",
    "    node_distances = mag_graph.distance_to_all(node, d=2)\n",
    "    node_distances[\"src_index\"] = node.index\n",
    "    distances = pd.concat([distances, node_distances], ignore_index=True)"
   ]
  },
  {
   "cell_type": "code",
   "execution_count": 30,
   "id": "896cc252",
   "metadata": {},
   "outputs": [
    {
     "data": {
      "text/html": [
       "<div>\n",
       "<style scoped>\n",
       "    .dataframe tbody tr th:only-of-type {\n",
       "        vertical-align: middle;\n",
       "    }\n",
       "\n",
       "    .dataframe tbody tr th {\n",
       "        vertical-align: top;\n",
       "    }\n",
       "\n",
       "    .dataframe thead th {\n",
       "        text-align: right;\n",
       "    }\n",
       "</style>\n",
       "<table border=\"1\" class=\"dataframe\">\n",
       "  <thead>\n",
       "    <tr style=\"text-align: right;\">\n",
       "      <th></th>\n",
       "      <th>src_index</th>\n",
       "      <th>dst_index</th>\n",
       "      <th>distance</th>\n",
       "    </tr>\n",
       "  </thead>\n",
       "  <tbody>\n",
       "    <tr>\n",
       "      <th>0</th>\n",
       "      <td>1559404</td>\n",
       "      <td>1559404</td>\n",
       "      <td>0</td>\n",
       "    </tr>\n",
       "    <tr>\n",
       "      <th>2</th>\n",
       "      <td>1559404</td>\n",
       "      <td>1116339</td>\n",
       "      <td>1</td>\n",
       "    </tr>\n",
       "    <tr>\n",
       "      <th>5</th>\n",
       "      <td>1559404</td>\n",
       "      <td>1118568</td>\n",
       "      <td>1</td>\n",
       "    </tr>\n",
       "    <tr>\n",
       "      <th>8</th>\n",
       "      <td>1559404</td>\n",
       "      <td>1127241</td>\n",
       "      <td>1</td>\n",
       "    </tr>\n",
       "    <tr>\n",
       "      <th>12</th>\n",
       "      <td>1559404</td>\n",
       "      <td>1189797</td>\n",
       "      <td>1</td>\n",
       "    </tr>\n",
       "    <tr>\n",
       "      <th>...</th>\n",
       "      <td>...</td>\n",
       "      <td>...</td>\n",
       "      <td>...</td>\n",
       "    </tr>\n",
       "    <tr>\n",
       "      <th>1400569</th>\n",
       "      <td>1713459</td>\n",
       "      <td>1118568</td>\n",
       "      <td>2</td>\n",
       "    </tr>\n",
       "    <tr>\n",
       "      <th>1400572</th>\n",
       "      <td>1713459</td>\n",
       "      <td>1123147</td>\n",
       "      <td>2</td>\n",
       "    </tr>\n",
       "    <tr>\n",
       "      <th>1400586</th>\n",
       "      <td>1113662</td>\n",
       "      <td>1753550</td>\n",
       "      <td>1</td>\n",
       "    </tr>\n",
       "    <tr>\n",
       "      <th>1400589</th>\n",
       "      <td>1113662</td>\n",
       "      <td>1127241</td>\n",
       "      <td>2</td>\n",
       "    </tr>\n",
       "    <tr>\n",
       "      <th>1400593</th>\n",
       "      <td>1113662</td>\n",
       "      <td>1668796</td>\n",
       "      <td>2</td>\n",
       "    </tr>\n",
       "  </tbody>\n",
       "</table>\n",
       "<p>1400499 rows × 3 columns</p>\n",
       "</div>"
      ],
      "text/plain": [
       "        src_index dst_index distance\n",
       "0         1559404   1559404        0\n",
       "2         1559404   1116339        1\n",
       "5         1559404   1118568        1\n",
       "8         1559404   1127241        1\n",
       "12        1559404   1189797        1\n",
       "...           ...       ...      ...\n",
       "1400569   1713459   1118568        2\n",
       "1400572   1713459   1123147        2\n",
       "1400586   1113662   1753550        1\n",
       "1400589   1113662   1127241        2\n",
       "1400593   1113662   1668796        2\n",
       "\n",
       "[1400499 rows x 3 columns]"
      ]
     },
     "execution_count": 30,
     "metadata": {},
     "output_type": "execute_result"
    }
   ],
   "source": [
    "dst_counts = distances['dst_index'].value_counts()\n",
    "filtered_distances = distances[distances['dst_index'].isin(dst_counts[dst_counts > 1].index)]\n",
    "filtered_distances"
   ]
  },
  {
   "cell_type": "code",
   "execution_count": 32,
   "id": "1fe92484",
   "metadata": {},
   "outputs": [],
   "source": [
    "mean_distances = filtered_distances.groupby('dst_index')['distance'].mean().sort_values(ascending=False)"
   ]
  },
  {
   "cell_type": "code",
   "execution_count": 42,
   "id": "1b1c5c84",
   "metadata": {},
   "outputs": [
    {
     "data": {
      "text/plain": [
       "dst_index\n",
       "1548176    2.0\n",
       "Name: distance, dtype: object"
      ]
     },
     "execution_count": 42,
     "metadata": {},
     "output_type": "execute_result"
    }
   ],
   "source": [
    "mean_distances[mean_distances.index == 1548176]"
   ]
  },
  {
   "cell_type": "code",
   "execution_count": 27,
   "id": "0a18534d",
   "metadata": {},
   "outputs": [],
   "source": [
    "# Get all unique src_index values\n",
    "all_src_indexes = distances['src_index'].unique()\n",
    "total_src_count = len(all_src_indexes)\n",
    "\n",
    "# Find dst_index values that appear with ALL src_index values\n",
    "dst_counts = distances.groupby('dst_index')['src_index'].nunique()\n",
    "valid_dst_indexes = dst_counts[dst_counts == total_src_count].index\n",
    "\n",
    "# Filter to only those dst_index values and calculate mean distance\n",
    "result = (distances[distances['dst_index'].isin(valid_dst_indexes)]\n",
    "          .groupby('dst_index')['distance']\n",
    "          .mean()\n",
    "          .reset_index()\n",
    "          .rename(columns={'distance': 'mean_distance'}))"
   ]
  },
  {
   "cell_type": "code",
   "execution_count": 28,
   "id": "b8e0a109",
   "metadata": {},
   "outputs": [
    {
     "data": {
      "text/html": [
       "<div>\n",
       "<style scoped>\n",
       "    .dataframe tbody tr th:only-of-type {\n",
       "        vertical-align: middle;\n",
       "    }\n",
       "\n",
       "    .dataframe tbody tr th {\n",
       "        vertical-align: top;\n",
       "    }\n",
       "\n",
       "    .dataframe thead th {\n",
       "        text-align: right;\n",
       "    }\n",
       "</style>\n",
       "<table border=\"1\" class=\"dataframe\">\n",
       "  <thead>\n",
       "    <tr style=\"text-align: right;\">\n",
       "      <th></th>\n",
       "      <th>dst_index</th>\n",
       "      <th>mean_distance</th>\n",
       "    </tr>\n",
       "  </thead>\n",
       "  <tbody>\n",
       "    <tr>\n",
       "      <th>0</th>\n",
       "      <td>1127241</td>\n",
       "      <td>1.333333</td>\n",
       "    </tr>\n",
       "    <tr>\n",
       "      <th>1</th>\n",
       "      <td>1668796</td>\n",
       "      <td>2.0</td>\n",
       "    </tr>\n",
       "    <tr>\n",
       "      <th>2</th>\n",
       "      <td>1753550</td>\n",
       "      <td>1.666667</td>\n",
       "    </tr>\n",
       "  </tbody>\n",
       "</table>\n",
       "</div>"
      ],
      "text/plain": [
       "   dst_index mean_distance\n",
       "0    1127241      1.333333\n",
       "1    1668796           2.0\n",
       "2    1753550      1.666667"
      ]
     },
     "execution_count": 28,
     "metadata": {},
     "output_type": "execute_result"
    }
   ],
   "source": [
    "result"
   ]
  },
  {
   "cell_type": "code",
   "execution_count": 29,
   "id": "e9200fc8",
   "metadata": {},
   "outputs": [
    {
     "data": {
      "text/plain": [
       "[1548176]"
      ]
     },
     "execution_count": 29,
     "metadata": {},
     "output_type": "execute_result"
    }
   ],
   "source": [
    "answer_indices"
   ]
  },
  {
   "cell_type": "code",
   "execution_count": 12,
   "id": "90555d53",
   "metadata": {},
   "outputs": [
    {
     "data": {
      "text/html": [
       "<div>\n",
       "<style scoped>\n",
       "    .dataframe tbody tr th:only-of-type {\n",
       "        vertical-align: middle;\n",
       "    }\n",
       "\n",
       "    .dataframe tbody tr th {\n",
       "        vertical-align: top;\n",
       "    }\n",
       "\n",
       "    .dataframe thead th {\n",
       "        text-align: right;\n",
       "    }\n",
       "</style>\n",
       "<table border=\"1\" class=\"dataframe\">\n",
       "  <thead>\n",
       "    <tr style=\"text-align: right;\">\n",
       "      <th></th>\n",
       "      <th>src_index</th>\n",
       "      <th>dst_index</th>\n",
       "      <th>distance</th>\n",
       "    </tr>\n",
       "  </thead>\n",
       "  <tbody>\n",
       "    <tr>\n",
       "      <th>0</th>\n",
       "      <td>1106065</td>\n",
       "      <td>1106065</td>\n",
       "      <td>0</td>\n",
       "    </tr>\n",
       "    <tr>\n",
       "      <th>1</th>\n",
       "      <td>1106065</td>\n",
       "      <td>835790</td>\n",
       "      <td>1</td>\n",
       "    </tr>\n",
       "    <tr>\n",
       "      <th>2</th>\n",
       "      <td>1106065</td>\n",
       "      <td>1254035</td>\n",
       "      <td>2</td>\n",
       "    </tr>\n",
       "    <tr>\n",
       "      <th>3</th>\n",
       "      <td>1106065</td>\n",
       "      <td>1600189</td>\n",
       "      <td>2</td>\n",
       "    </tr>\n",
       "    <tr>\n",
       "      <th>4</th>\n",
       "      <td>1106065</td>\n",
       "      <td>1108464</td>\n",
       "      <td>2</td>\n",
       "    </tr>\n",
       "    <tr>\n",
       "      <th>...</th>\n",
       "      <td>...</td>\n",
       "      <td>...</td>\n",
       "      <td>...</td>\n",
       "    </tr>\n",
       "    <tr>\n",
       "      <th>704088</th>\n",
       "      <td>1141741</td>\n",
       "      <td>1415008</td>\n",
       "      <td>2</td>\n",
       "    </tr>\n",
       "    <tr>\n",
       "      <th>704089</th>\n",
       "      <td>1141741</td>\n",
       "      <td>1641159</td>\n",
       "      <td>2</td>\n",
       "    </tr>\n",
       "    <tr>\n",
       "      <th>704090</th>\n",
       "      <td>1141741</td>\n",
       "      <td>1647475</td>\n",
       "      <td>2</td>\n",
       "    </tr>\n",
       "    <tr>\n",
       "      <th>704091</th>\n",
       "      <td>1141741</td>\n",
       "      <td>6026</td>\n",
       "      <td>2</td>\n",
       "    </tr>\n",
       "    <tr>\n",
       "      <th>704092</th>\n",
       "      <td>1141741</td>\n",
       "      <td>1082698</td>\n",
       "      <td>2</td>\n",
       "    </tr>\n",
       "  </tbody>\n",
       "</table>\n",
       "<p>704093 rows × 3 columns</p>\n",
       "</div>"
      ],
      "text/plain": [
       "       src_index dst_index distance\n",
       "0        1106065   1106065        0\n",
       "1        1106065    835790        1\n",
       "2        1106065   1254035        2\n",
       "3        1106065   1600189        2\n",
       "4        1106065   1108464        2\n",
       "...          ...       ...      ...\n",
       "704088   1141741   1415008        2\n",
       "704089   1141741   1641159        2\n",
       "704090   1141741   1647475        2\n",
       "704091   1141741      6026        2\n",
       "704092   1141741   1082698        2\n",
       "\n",
       "[704093 rows x 3 columns]"
      ]
     },
     "execution_count": 12,
     "metadata": {},
     "output_type": "execute_result"
    }
   ],
   "source": [
    "distances"
   ]
  },
  {
   "cell_type": "code",
   "execution_count": null,
   "id": "c7e626f5",
   "metadata": {},
   "outputs": [],
   "source": [
    "\n",
    "candidate_df = pd.DataFrame(\n",
    "    [(node.name, node.index, node.type, value) for node, value in candidate_rank.items()],\n",
    "    columns=[\"name\", \"index\", \"type\", \"connectedness\"],\n",
    ")\n",
    "\n",
    "candidate_df = candidate_df[candidate_df[\"type\"] == \"paper\"]\n",
    "\n",
    "candidate_df[\"embedding\"] = candidate_df[\"index\"].apply(lambda index: doc_embeddings[index])\n",
    "candidate_df[\"similarity\"] = candidate_df[\"embedding\"].apply(\n",
    "    lambda embedding: torch.matmul(\n",
    "        question_embedding.detach().clone(), embedding.detach().clone().T\n",
    "    ).item()\n",
    ")\n",
    "\n",
    "candidate_df = candidate_df.sort_values(\n",
    "    [\"connectedness\", \"similarity\"], ascending=[False, False]\n",
    ")\n",
    "\n",
    "retrieved_indices = candidate_df[\"index\"].tolist()\n",
    "hit_1 = retrieved_indices[0] in answer_indices if retrieved_indices else False\n",
    "hit_5 = any([retrieved_index in answer_indices for retrieved_index in retrieved_indices[:5]])\n",
    "recall_20 = len(set(retrieved_indices[:20]) & set(answer_indices)) / len(answer_indices)\n",
    "\n",
    "log = {\n",
    "    \"question\": question,\n",
    "    \"entities\": [entity for entity in entities],\n",
    "    \"central_nodes\": [node.to_doc() for node in central_nodes],\n",
    "    \"retrieved_indices\": retrieved_indices,\n",
    "    \"answer_indices\": answer_indices,\n",
    "    \"hit@1\": hit_1,\n",
    "    \"hit@5\": hit_5,\n",
    "    \"recall@20\": recall_20,\n",
    "}\n",
    "\n",
    "with open(results_dir / f\"{question_index}.json\", \"w\") as f:\n",
    "    json.dump(log, f, indent=4)\n",
    "    candidate_df.to_csv(results_dir / f\"{question_index}_candidates.csv\", index=False)\n",
    "\n",
    "print(f\"Processed question {question_index}\")"
   ]
  },
  {
   "cell_type": "code",
   "execution_count": 60,
   "id": "d31d6e43",
   "metadata": {},
   "outputs": [
    {
     "name": "stdout",
     "output_type": "stream",
     "text": [
      "Question 0: Does any research from the Indian Maritime University touch upon Fe II energy level transitions within the scope of Configuration Interaction?\n",
      "Answer: [1600189]\n",
      "Question 1: Show me articles related to magnetic field studies within the Digitized Sky Survey discipline.\n",
      "Answer: [1265762]\n",
      "Question 2: Show me publications by J. Karch that evaluate various imaging techniques in paleontological research.\n",
      "Answer: [1787579]\n",
      "Question 3: What are the papers that reference \"The interaction between feedback from active galactic nuclei and supernovae\" and also explore the effects of black hole feedback on galaxy groups, similar to the 2010 study on this subject?\n",
      "Answer: [1561967]\n",
      "Question 4: Looking for papers published in 2014 in the field of Optics, pertinent to process observation in selective laser melting and related to the International Federation of Sport Climbing.\n",
      "Answer: [1572865]\n",
      "Question 5: Are there any published papers from the coauthors of \"On the structure of isomeric state in neutron-rich 108Zr: A projected shell model analysis\" that delve into high spin states?\n",
      "Answer: [1554176, 1661883, 1489318, 1639466, 1299147, 1234956, 1645457, 1401332, 1705015, 1412027, 1701563, 1469342]\n",
      "Question 6: Search for publications by Hu Zhiyuan on the impact of radiation on flash memory input/output components.\n",
      "Answer: [1643284]\n",
      "Question 7: Find publications from Carma researchers that report detections using the Australian Square Kilometre Array Pathfinder (ASKAP) radio telescope.\n",
      "Answer: [1186107, 1658077, 1753319]\n",
      "Question 8: I'm looking for papers that have a shared author with \"Observed cumulative time delay between second harmonic and fundamental component of pressure wave fields propagating through ultrasound contrast agents\". In addition, these papers should also be in the same research field and focus on the estimation of nonlinearity in ultrasound signals. This should be akin to the aforementioned paper's analysis of harmonic components to comprehend the nonlinear characteristics of contrast agents.\n",
      "Answer: [1573530, 1641324, 1602973, 1283454]\n",
      "Question 9: Publications by Lexmark authors on optical forces in cloaking devices\n",
      "Answer: [1559382]\n"
     ]
    }
   ],
   "source": [
    "for i in range(10):\n",
    "    print(f\"Question {i}: {qas.iloc[i]['question']}\")\n",
    "    print(f\"Answer: {qas.iloc[i]['answer_indices']}\")\n"
   ]
  },
  {
   "cell_type": "code",
   "execution_count": 61,
   "id": "34202987",
   "metadata": {},
   "outputs": [
    {
     "name": "stdout",
     "output_type": "stream",
     "text": [
      "PaperNode(name=Observed cumulative time delay between second harmonic and fundamental component of pressure wave fields propagating through ultrasound contrast agents, index=1283454, type=paper)\n"
     ]
    },
    {
     "data": {
      "text/html": [
       "<div>\n",
       "<style scoped>\n",
       "    .dataframe tbody tr th:only-of-type {\n",
       "        vertical-align: middle;\n",
       "    }\n",
       "\n",
       "    .dataframe tbody tr th {\n",
       "        vertical-align: top;\n",
       "    }\n",
       "\n",
       "    .dataframe thead th {\n",
       "        text-align: right;\n",
       "    }\n",
       "</style>\n",
       "<table border=\"1\" class=\"dataframe\">\n",
       "  <thead>\n",
       "    <tr style=\"text-align: right;\">\n",
       "      <th></th>\n",
       "      <th>dst_index</th>\n",
       "      <th>distance</th>\n",
       "    </tr>\n",
       "  </thead>\n",
       "  <tbody>\n",
       "    <tr>\n",
       "      <th>0</th>\n",
       "      <td>1283454</td>\n",
       "      <td>0</td>\n",
       "    </tr>\n",
       "    <tr>\n",
       "      <th>1</th>\n",
       "      <td>1116128</td>\n",
       "      <td>1</td>\n",
       "    </tr>\n",
       "    <tr>\n",
       "      <th>2</th>\n",
       "      <td>1120645</td>\n",
       "      <td>1</td>\n",
       "    </tr>\n",
       "    <tr>\n",
       "      <th>3</th>\n",
       "      <td>1127165</td>\n",
       "      <td>1</td>\n",
       "    </tr>\n",
       "    <tr>\n",
       "      <th>4</th>\n",
       "      <td>1127241</td>\n",
       "      <td>1</td>\n",
       "    </tr>\n",
       "    <tr>\n",
       "      <th>...</th>\n",
       "      <td>...</td>\n",
       "      <td>...</td>\n",
       "    </tr>\n",
       "    <tr>\n",
       "      <th>700290</th>\n",
       "      <td>358366</td>\n",
       "      <td>2</td>\n",
       "    </tr>\n",
       "    <tr>\n",
       "      <th>700291</th>\n",
       "      <td>504518</td>\n",
       "      <td>2</td>\n",
       "    </tr>\n",
       "    <tr>\n",
       "      <th>700292</th>\n",
       "      <td>873026</td>\n",
       "      <td>2</td>\n",
       "    </tr>\n",
       "    <tr>\n",
       "      <th>700293</th>\n",
       "      <td>915414</td>\n",
       "      <td>2</td>\n",
       "    </tr>\n",
       "    <tr>\n",
       "      <th>700294</th>\n",
       "      <td>970479</td>\n",
       "      <td>2</td>\n",
       "    </tr>\n",
       "  </tbody>\n",
       "</table>\n",
       "<p>700295 rows × 2 columns</p>\n",
       "</div>"
      ],
      "text/plain": [
       "        dst_index  distance\n",
       "0         1283454         0\n",
       "1         1116128         1\n",
       "2         1120645         1\n",
       "3         1127165         1\n",
       "4         1127241         1\n",
       "...           ...       ...\n",
       "700290     358366         2\n",
       "700291     504518         2\n",
       "700292     873026         2\n",
       "700293     915414         2\n",
       "700294     970479         2\n",
       "\n",
       "[700295 rows x 2 columns]"
      ]
     },
     "execution_count": 61,
     "metadata": {},
     "output_type": "execute_result"
    }
   ],
   "source": [
    "node = mag_graph.search_nodes(\"Observed cumulative time delay between second harmonic and fundamental component of pressure wave fields propagating through ultrasound contrast agents\", k=5)[0]\n",
    "print(node)\n",
    "mag_graph.distance_to_all(node, d=2)"
   ]
  },
  {
   "cell_type": "code",
   "execution_count": 62,
   "id": "9a3b3441",
   "metadata": {},
   "outputs": [
    {
     "data": {
      "text/plain": [
       "{AuthorNode(name=Giovanna Russo, index=277416, type=author),\n",
       " AuthorNode(name=Hessel Wijkstra, index=111353, type=author),\n",
       " AuthorNode(name=Libertario Demi, index=151676, type=author),\n",
       " AuthorNode(name=M Massimo Mischi, index=118327, type=author),\n",
       " FieldOfStudyNode(name=-1.0, index=1164287, type=field_of_study),\n",
       " FieldOfStudyNode(name=Acoustics, index=1116128, type=field_of_study),\n",
       " FieldOfStudyNode(name=Backscatter, index=1129862, type=field_of_study),\n",
       " FieldOfStudyNode(name=Harmonic, index=1127984, type=field_of_study),\n",
       " FieldOfStudyNode(name=Mechanical index, index=1129151, type=field_of_study),\n",
       " FieldOfStudyNode(name=Microbubbles, index=1120645, type=field_of_study),\n",
       " FieldOfStudyNode(name=Optics, index=1127165, type=field_of_study),\n",
       " FieldOfStudyNode(name=Path length, index=1128101, type=field_of_study),\n",
       " FieldOfStudyNode(name=Physics, index=1127241, type=field_of_study),\n",
       " FieldOfStudyNode(name=Ultrasound, index=1129750, type=field_of_study),\n",
       " PaperNode(name=Angiogenesis imaging by spatiotemporal analysis of ultrasound contrast agent dispersion kinetics, index=1497965, type=paper),\n",
       " PaperNode(name=Bubble-echo based deconvolution of contrast-enhanced ultrasound imaging: Simulation and experimental validations., index=1823875, type=paper),\n",
       " PaperNode(name=Counter-propagating wave interaction for contrast-enhanced ultrasound imaging, index=1583556, type=paper)}"
      ]
     },
     "execution_count": 62,
     "metadata": {},
     "output_type": "execute_result"
    }
   ],
   "source": [
    "mag_graph.get_neighbors(node)"
   ]
  },
  {
   "cell_type": "code",
   "execution_count": null,
   "id": "468e0bfc",
   "metadata": {},
   "outputs": [],
   "source": []
  }
 ],
 "metadata": {
  "kernelspec": {
   "display_name": ".venv",
   "language": "python",
   "name": "python3"
  },
  "language_info": {
   "codemirror_mode": {
    "name": "ipython",
    "version": 3
   },
   "file_extension": ".py",
   "mimetype": "text/x-python",
   "name": "python",
   "nbconvert_exporter": "python",
   "pygments_lexer": "ipython3",
   "version": "3.11.12"
  }
 },
 "nbformat": 4,
 "nbformat_minor": 5
}
