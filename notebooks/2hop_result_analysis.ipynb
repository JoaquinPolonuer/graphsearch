{
 "cells": [
  {
   "cell_type": "code",
   "execution_count": 76,
   "id": "6f0d7305",
   "metadata": {},
   "outputs": [
    {
     "name": "stderr",
     "output_type": "stream",
     "text": [
      "/Users/joaquinpolonuer/Documents/software/tesis/zitnik/rags/graphsearch/notebooks/../graph_types/mag.py:83: DtypeWarning: Columns (3,11,12,13,15,16,23,25,29,32,34,35,36,39,40) have mixed types. Specify dtype option on import or set low_memory=False.\n",
      "  nodes_df = pd.read_csv(nodes_file)\n"
     ]
    }
   ],
   "source": [
    "import json\n",
    "import pandas as pd\n",
    "import os\n",
    "from pathlib import Path\n",
    "import sys\n",
    "\n",
    "sys.path.append(\"../\")\n",
    "\n",
    "\n",
    "from config import DATA_DIR\n",
    "from graph_types.prime import PrimeGraph\n",
    "from graph_types.mag import MagGraph\n",
    "\n",
    "name = \"mag\"\n",
    "\n",
    "if name == \"prime\":\n",
    "    graph = PrimeGraph.load()\n",
    "elif name == \"mag\":\n",
    "    graph = MagGraph.load()"
   ]
  },
  {
   "cell_type": "code",
   "execution_count": 77,
   "id": "c2fdf1b6",
   "metadata": {},
   "outputs": [],
   "source": [
    "logs_dir = DATA_DIR / f\"connectedness/{graph.name}_logs_2hop\"\n",
    "json_files = sorted([f for f in logs_dir.glob(\"*.json\")])\n",
    "\n",
    "data = []\n",
    "\n",
    "for json_file in json_files:\n",
    "    with open(json_file, \"r\") as f:\n",
    "        log_data = json.load(f)\n",
    "        \n",
    "\n",
    "    # Extract key information from each log entry\n",
    "    record = {\n",
    "        \"file_id\": json_file.stem,\n",
    "        \"question\": log_data.get(\"question\", \"\"),\n",
    "        \"sorted_central_nodes\": log_data.get(\"sorted_central_nodes\", []),\n",
    "        \"answer_indices\": log_data.get(\"answer_indices\", []),\n",
    "        \"sorted_candidates\": log_data.get(\"sorted_candidates\", []),\n",
    "    }\n",
    "\n",
    "    data.append(record)\n",
    "\n",
    "df = pd.DataFrame(data)\n"
   ]
  },
  {
   "cell_type": "code",
   "execution_count": 78,
   "id": "38c701f8",
   "metadata": {},
   "outputs": [],
   "source": [
    "df[\"recall@all\"] = df.apply(\n",
    "    lambda row: len(set(row[\"answer_indices\"]).intersection(set(row[\"sorted_candidates\"])))\n",
    "    / len(set(row[\"answer_indices\"])),\n",
    "    axis=1,\n",
    ")\n",
    "df[\"hit@1\"] = df.apply(\n",
    "    lambda row: row[\"sorted_candidates\"][0] in row[\"answer_indices\"],\n",
    "    axis=1,\n",
    ")\n",
    "df[\"hit@5\"] = df.apply(\n",
    "    lambda row: len(set(row[\"answer_indices\"]).intersection(set(row[\"sorted_candidates\"][:5]))) > 0,\n",
    "    axis=1,\n",
    ")\n",
    "df[\"recall@20\"] = df.apply(\n",
    "    lambda row: len(set(row[\"answer_indices\"]).intersection(set(row[\"sorted_candidates\"][:20])))\n",
    "    / len(set(row[\"answer_indices\"])),\n",
    "    axis=1,\n",
    ")"
   ]
  },
  {
   "cell_type": "markdown",
   "id": "fd240608",
   "metadata": {},
   "source": [
    "### Metrics"
   ]
  },
  {
   "cell_type": "code",
   "execution_count": 79,
   "id": "3b7f83a1",
   "metadata": {},
   "outputs": [
    {
     "data": {
      "text/plain": [
       "[('Hit@1', 0.475),\n",
       " ('Hit@5', 0.773),\n",
       " ('Recall@20', 0.763),\n",
       " ('Recall@all', 0.931)]"
      ]
     },
     "execution_count": 79,
     "metadata": {},
     "output_type": "execute_result"
    }
   ],
   "source": [
    "[\n",
    "    (\"Hit@1\", float(round(df[\"hit@1\"].mean(), 3))),\n",
    "    (\"Hit@5\", float(round(df[\"hit@5\"].mean(), 3))),\n",
    "    (\"Recall@20\", float(round(df[\"recall@20\"].mean(), 3))),\n",
    "    (\"Recall@all\", float(round(df[\"recall@all\"].mean(), 3))),\n",
    "]"
   ]
  },
  {
   "cell_type": "markdown",
   "id": "115a4eb0",
   "metadata": {},
   "source": [
    "### What was the starting node when we didn't hit the correct subgraph?"
   ]
  },
  {
   "cell_type": "code",
   "execution_count": 80,
   "id": "106d4cab",
   "metadata": {},
   "outputs": [
    {
     "name": "stdout",
     "output_type": "stream",
     "text": [
      "Question: Show me research articles related to weather stations focusing on the study of mountainous terrain impacts on observational data.\n",
      "Starting node: PaperNode(name=Daytime Heat Transfer Processes over Mountainous Terrain, index=1521359, type=paper)\n",
      "Other candidate for starting node: PaperNode(name=On the Measurement of Turbulence Over Complex Mountainous Terrain, index=1582654, type=paper)\n",
      "\n",
      "Question: I'm seeking research articles on mathematical objects that delve into delineating complex networks' modular configuration. My focus is on those employing graph theory and algebraic topology approaches to scrutinize the communal constructs within empirical networks.\n",
      "Starting node: FieldOfStudyNode(name=Algebraic topology, index=1129889, type=field_of_study)\n",
      "Other candidate for starting node: FieldOfStudyNode(name=Graph theory, index=1123418, type=field_of_study)\n",
      "\n",
      "Question: Show me publications by M. F. de Andrade that study the interactions of monomers within a lattice structure.\n",
      "Starting node: AuthorNode(name=M. F. de Andrade, index=557457, type=author)\n",
      "Other candidate for starting node: AuthorNode(name=M. F. de Andrade, index=735221, type=author)\n",
      "\n",
      "Question: Show me articles on deformable mirror modeling techniques within the pressure control domain.\n",
      "Starting node: PaperNode(name=Modeling a MEMS deformable mirror using non-parametric estimation techniques, index=1370572, type=paper)\n",
      "Other candidate for starting node: FieldOfStudyNode(name=Deformable mirror, index=1129015, type=field_of_study)\n",
      "\n",
      "Question: Show me publications by D. Fabris related to measuring quarkonium production.\n",
      "Starting node: AuthorNode(name=D. Fabris, index=72661, type=author)\n",
      "Other candidate for starting node: AuthorNode(name=D. Fabris, index=909578, type=author)\n",
      "\n",
      "Question: I'm looking for any 2013 papers by R. G. Pillay focusing on cryogen-free dilution refrigerators. I'm particularly keen to find the one covering the development and performance of this cryogen-free system.\n",
      "Starting node: PaperNode(name=Thermal coupling of silicon oscillators in cryogen-free dilution refrigerators, index=1831523, type=paper)\n",
      "Other candidate for starting node: AuthorNode(name=R. G. Pillay, index=593064, type=author)\n",
      "\n",
      "Question: Show me the publications by Guohui Li on the subject of particle dispersion in gas flows.\n",
      "Starting node: AuthorNode(name=Guohui Li, index=355056, type=author)\n",
      "Other candidate for starting node: AuthorNode(name=GuoHui Li, index=444666, type=author)\n",
      "\n",
      "Question: List papers discussing shock wave solution behaviors in the context of weak solutions.\n",
      "Starting node: FieldOfStudyNode(name=Shock wave, index=1121443, type=field_of_study)\n",
      "Other candidate for starting node: FieldOfStudyNode(name=Undercompressive shock wave, index=1123891, type=field_of_study)\n",
      "\n",
      "Question: I'm looking for publications assessing the performance of adsorption refrigeration systems when integrated with staged combustion cycles.\n",
      "Starting node: FieldOfStudyNode(name=Staged combustion, index=1134429, type=field_of_study)\n",
      "Other candidate for starting node: FieldOfStudyNode(name=Staged combustion cycle, index=1136064, type=field_of_study)\n",
      "\n",
      "Question: Show me papers around 2010 discussing the use of Ethylenediaminetraacetic acid in low-cost solar energy conversion.\n",
      "Starting node: FieldOfStudyNode(name=Solar energy conversion, index=1145681, type=field_of_study)\n",
      "Other candidate for starting node: PaperNode(name=A low cost high flux solar simulator, index=1568086, type=paper)\n",
      "\n",
      "Question: Show me publications on Analog computing focused on techniques for executing advanced acoustic computations.\n",
      "Starting node: PaperNode(name=Analog optical computing, index=1668538, type=paper)\n",
      "Other candidate for starting node: PaperNode(name=Analog computing by Brewster effect, index=1692499, type=paper)\n",
      "\n",
      "Question: Show me articles on Arxiv discussing the examination of frequency intervals in delta Scuti stars within Regular frequency studies.\n",
      "Starting node: PaperNode(name=Statistical Properties of Galactic {\\delta} Scuti Stars: Revisited, index=1375198, type=paper)\n",
      "Other candidate for starting node: FieldOfStudyNode(name=Regular frequency, index=1154662, type=field_of_study)\n",
      "\n",
      "Question: List of research articles on the interaction of drag forces with particles in cavity walls\n",
      "Starting node: PaperNode(name=Ion drag forces and magnetomechanical effect, index=1440426, type=paper)\n",
      "Other candidate for starting node: PaperNode(name=Lateral-drag propulsion forces induced by anisotropy, index=1761602, type=paper)\n",
      "\n",
      "Question: Show me the 2014 publications by Andreas Becker, including his paper in the Proceedings of the National Academy of Sciences that discusses soft X-ray attosecond pulses.\n",
      "Starting node: InstitutionNode(name=National Academy of Sciences, index=1112210, type=institution)\n",
      "Other candidate for starting node: InstitutionNode(name=Armenian National Academy of Sciences, index=1107643, type=institution)\n",
      "\n",
      "Question: I'm looking for research articles related to Schottky Barrier Diode Structures (SBDS), specifically focusing on the impact of an insulator layer on the performance and characteristics of Schottky barrier diodes.\n",
      "Starting node: PaperNode(name=GaN Nanowire Schottky Barrier Diodes, index=1741974, type=paper)\n",
      "Other candidate for starting node: FieldOfStudyNode(name=Schottky barrier, index=1115058, type=field_of_study)\n",
      "\n",
      "Question: List papers on Singularity theory addressing the stability of naked singularities.\n",
      "Starting node: PaperNode(name=Dilatonic effects near naked singularities, index=1492622, type=paper)\n",
      "Other candidate for starting node: FieldOfStudyNode(name=Singularity theory, index=1137099, type=field_of_study)\n",
      "\n",
      "Question: Could you find the research papers written by D. Zaborov, particularly the 2018 study on NGC 253 in an astronomy journal?\n",
      "Starting node: AuthorNode(name=D. Zaborov, index=479934, type=author)\n",
      "Other candidate for starting node: AuthorNode(name=D. Zaborov, index=907884, type=author)\n",
      "\n",
      "Question: What papers discussing electron characteristics reference or are referenced by the study on whistler mode waves in connection with Saturn's magnetosphere's ring distribution function?\n",
      "Starting node: PaperNode(name=Whistler mode waves at magnetotail dipolarization fronts, index=1245075, type=paper)\n",
      "Other candidate for starting node: PaperNode(name=Coupling between whistler waves and slow-mode solitary waves, index=1381725, type=paper)\n",
      "\n",
      "Question: Show me publications by Jie Zheng related to atomic-precision filtration techniques.\n",
      "Starting node: AuthorNode(name=Zheng Jie, index=355229, type=author)\n",
      "Other candidate for starting node: AuthorNode(name=Zheng Jie, index=362969, type=author)\n",
      "\n",
      "Question: Search for publications by Hu Zhiyuan on the impact of radiation on flash memory input/output components.\n",
      "Starting node: AuthorNode(name=Hu Zhiyuan, index=204626, type=author)\n",
      "Other candidate for starting node: AuthorNode(name=Zhiyuan Hu, index=634906, type=author)\n",
      "\n",
      "Question: Find publications from Carma researchers that report detections using the Australian Square Kilometre Array Pathfinder (ASKAP) radio telescope.\n",
      "Starting node: AuthorNode(name=Askap: Australian Ska Pathfinder, index=923663, type=author)\n",
      "Other candidate for starting node: PaperNode(name=Cosmological Surveys with the Australian Square Kilometre Array Pathfinder, index=1613882, type=paper)\n",
      "\n",
      "Question: Show me publications by Daifa Wang on reconstructive techniques in fluorescence molecular tomography.\n",
      "Starting node: AuthorNode(name=Daifa Wang, index=309404, type=author)\n",
      "Other candidate for starting node: AuthorNode(name=Daifa Wang, index=828261, type=author)\n",
      "\n",
      "Question: Show me research articles focused on analog electronic circuits examining the saturation behavior in FinFET transistors.\n",
      "Starting node: PaperNode(name=Maxwell's demons realized in electronic circuits, index=1698402, type=paper)\n",
      "Other candidate for starting node: PaperNode(name=Towards quantum thermodynamics in electronic circuits, index=1364952, type=paper)\n",
      "\n",
      "Question: Show me publications by Vinod Narayanan on microscale heat transfer mechanisms.\n",
      "Starting node: AuthorNode(name=Vinod Narayanan, index=505002, type=author)\n",
      "Other candidate for starting node: AuthorNode(name=Vinod Narayanan, index=233570, type=author)\n",
      "\n",
      "Question: Show me publications by Juan Guo on jet-induced filament eruptions.\n",
      "Starting node: AuthorNode(name=Juan-Juan Guo, index=817174, type=author)\n",
      "Other candidate for starting node: PaperNode(name=Two-step solar filament eruptions, index=1791438, type=paper)\n",
      "\n"
     ]
    }
   ],
   "source": [
    "for _, row in df[df[\"recall@all\"] != 1].iterrows():\n",
    "    starting_node = row[\"sorted_central_nodes\"][0] if row[\"sorted_central_nodes\"] else \"None\"\n",
    "    print(f\"Question: {row['question']}\\nStarting node: {starting_node}\")\n",
    "    print(\n",
    "        f\"Other candidate for starting node: {row['sorted_central_nodes'][1] if len(row['sorted_central_nodes']) > 1 else 'None'}\\n\"\n",
    "    )"
   ]
  },
  {
   "cell_type": "markdown",
   "id": "a5dabe18",
   "metadata": {},
   "source": [
    "### When we started in the correct subgraph, how many did we recover?"
   ]
  },
  {
   "cell_type": "code",
   "execution_count": 81,
   "id": "4bcb96db",
   "metadata": {},
   "outputs": [
    {
     "data": {
      "text/plain": [
       "np.float64(0.8202240933235656)"
      ]
     },
     "execution_count": 81,
     "metadata": {},
     "output_type": "execute_result"
    }
   ],
   "source": [
    "df[df[\"recall@all\"] == 1]['recall@20'].mean()"
   ]
  },
  {
   "cell_type": "code",
   "execution_count": null,
   "id": "92099899",
   "metadata": {},
   "outputs": [],
   "source": []
  }
 ],
 "metadata": {
  "kernelspec": {
   "display_name": ".venv",
   "language": "python",
   "name": "python3"
  },
  "language_info": {
   "codemirror_mode": {
    "name": "ipython",
    "version": 3
   },
   "file_extension": ".py",
   "mimetype": "text/x-python",
   "name": "python",
   "nbconvert_exporter": "python",
   "pygments_lexer": "ipython3",
   "version": "3.11.12"
  }
 },
 "nbformat": 4,
 "nbformat_minor": 5
}
