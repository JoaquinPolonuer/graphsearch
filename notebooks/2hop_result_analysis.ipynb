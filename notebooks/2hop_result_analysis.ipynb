{
 "cells": [
  {
   "cell_type": "code",
   "execution_count": null,
   "id": "6f0d7305",
   "metadata": {},
   "outputs": [],
   "source": [
    "import json\n",
    "import pandas as pd\n",
    "import os\n",
    "from pathlib import Path\n",
    "import sys\n",
    "\n",
    "sys.path.append(\"../\")\n",
    "\n",
    "from config import DATA_DIR\n",
    "from graph_types.graph import Graph\n",
    "\n",
    "graph_name=\"amazon\""
   ]
  },
  {
   "cell_type": "code",
   "execution_count": 4,
   "id": "9e6346a3",
   "metadata": {},
   "outputs": [],
   "source": [
    "# graph = Graph.load(graph_name)"
   ]
  },
  {
   "cell_type": "code",
   "execution_count": 6,
   "id": "c2fdf1b6",
   "metadata": {},
   "outputs": [
    {
     "data": {
      "text/plain": [
       "[('n', 249),\n",
       " ('Hit@1', 0.378),\n",
       " ('Hit@5', 0.574),\n",
       " ('Recall@20', 0.383),\n",
       " ('Recall@all', 0.626)]"
      ]
     },
     "execution_count": 6,
     "metadata": {},
     "output_type": "execute_result"
    }
   ],
   "source": [
    "logs_dir = DATA_DIR / f\"experiments/{graph_name}/2hop\"\n",
    "json_files = sorted([f for f in logs_dir.glob(\"*.json\")])\n",
    "\n",
    "data = []\n",
    "\n",
    "for json_file in json_files:\n",
    "    with open(json_file, \"r\") as f:\n",
    "        log_data = json.load(f)\n",
    "\n",
    "    # Extract key information from each log entry\n",
    "    record = {\n",
    "        \"file_id\": int(json_file.stem),\n",
    "        \"question\": log_data.get(\"question\", \"\"),\n",
    "        \"starting_node_index\": log_data.get(\n",
    "            \"starting_node_index\", log_data.get(\"sorted_central_nodes_indices\", [])[0]\n",
    "        ),\n",
    "        \"sorted_central_nodes_indices\": log_data.get(\"sorted_central_nodes_indices\", []),\n",
    "        \"sorted_candidates_indices\": log_data.get(\"sorted_candidates_indices\", []),\n",
    "        \"answer_type\": log_data.get(\"answer_type\", \"\"),\n",
    "        \"answer_indices\": log_data.get(\"answer_indices\", []),\n",
    "    }\n",
    "\n",
    "    data.append(record)\n",
    "\n",
    "df = pd.DataFrame(data).sort_values(by=\"file_id\").reset_index(drop=True)\n",
    "\n",
    "df[\"recall@all\"] = df.apply(\n",
    "    lambda row: len(set(row[\"answer_indices\"]).intersection(set(row[\"sorted_candidates_indices\"])))\n",
    "    / len(set(row[\"answer_indices\"])),\n",
    "    axis=1,\n",
    ")\n",
    "df[\"hit@1\"] = df.apply(\n",
    "    lambda row: row[\"sorted_candidates_indices\"][0] in row[\"answer_indices\"] if row[\"sorted_candidates_indices\"] else False,\n",
    "    axis=1,\n",
    ")\n",
    "df[\"hit@5\"] = df.apply(\n",
    "    lambda row: len(set(row[\"answer_indices\"]).intersection(set(row[\"sorted_candidates_indices\"][:5]))) > 0,\n",
    "    axis=1,\n",
    ")\n",
    "df[\"hit@10\"] = df.apply(\n",
    "    lambda row: len(set(row[\"answer_indices\"]).intersection(set(row[\"sorted_candidates_indices\"][:10]))) > 0,\n",
    "    axis=1,\n",
    ")\n",
    "df[\"recall@20\"] = df.apply(\n",
    "    lambda row: len(set(row[\"answer_indices\"]).intersection(set(row[\"sorted_candidates_indices\"][:20])))\n",
    "    / len(set(row[\"answer_indices\"])),\n",
    "    axis=1,\n",
    ")\n",
    "\n",
    "[\n",
    "    (\"n\", len(df)),\n",
    "    (\"Hit@1\", float(round(df[\"hit@1\"].mean(), 3))),\n",
    "    (\"Hit@5\", float(round(df[\"hit@5\"].mean(), 3))),\n",
    "    (\"Recall@20\", float(round(df[\"recall@20\"].mean(), 3))),\n",
    "    (\"Recall@all\", float(round(df[\"recall@all\"].mean(), 3))),\n",
    "]"
   ]
  },
  {
   "cell_type": "markdown",
   "id": "115a4eb0",
   "metadata": {},
   "source": [
    "### What was the starting node when we didn't hit the correct subgraph?"
   ]
  },
  {
   "cell_type": "code",
   "execution_count": null,
   "id": "106d4cab",
   "metadata": {},
   "outputs": [
    {
     "name": "stdout",
     "output_type": "stream",
     "text": [
      "Question: Search for publications by Hu Zhiyuan on the impact of radiation on flash memory input/output components.\n",
      "Starting node: AuthorNode(name=Hu Zhiyuan, index=204626, type=author)\n",
      "Other candidate for starting node: 1643284\n",
      "\n",
      "Question: Find publications from Carma researchers that report detections using the Australian Square Kilometre Array Pathfinder (ASKAP) radio telescope.\n",
      "Starting node: AuthorNode(name=Askap: Australian Ska Pathfinder, index=923663, type=author)\n",
      "Other candidate for starting node: 1104625\n",
      "\n",
      "Question: List papers discussing shock wave solution behaviors in the context of weak solutions.\n",
      "Starting node: FieldOfStudyNode(name=Shock wave, index=1121443, type=field_of_study)\n",
      "Other candidate for starting node: 1247731\n",
      "\n",
      "Question: List of research articles on the interaction of drag forces with particles in cavity walls\n",
      "Starting node: PaperNode(name=Ion drag forces and magnetomechanical effect, index=1440426, type=paper)\n",
      "Other candidate for starting node: 1214177\n",
      "\n",
      "Question: I'm looking for publications on the adjustment of topological phases within the pseudospectrum domain through system parameter alteration.\n",
      "Starting node: PaperNode(name=Photonic quadrupole topological phases, index=1843998, type=paper)\n",
      "Other candidate for starting node: 1138912\n",
      "\n",
      "Question: Show me publications by A. C. Carnall that discuss the overview of the VANDELS spectroscopic survey.\n",
      "Starting node: AuthorNode(name=A. C. Carnall, index=898011, type=author)\n",
      "Other candidate for starting node: 1804661\n",
      "\n"
     ]
    }
   ],
   "source": [
    "for _, row in df[df[\"recall@all\"] != 1].iterrows():\n",
    "    starting_node = graph.get_node_by_index(\n",
    "        (row[\"sorted_central_nodes_indices\"][0] if row[\"sorted_central_nodes_indices\"] else \"None\")\n",
    "    )\n",
    "\n",
    "    print(f\"Question: {row['question']}\\nStarting node: {starting_node}\")\n",
    "    print(\n",
    "        f\"Other candidate for starting node: {row['sorted_central_nodes_indices'][1] if len(row['sorted_central_nodes_indices']) > 1 else 'None'}\\n\"\n",
    "    )"
   ]
  },
  {
   "cell_type": "markdown",
   "id": "a5dabe18",
   "metadata": {},
   "source": [
    "### When we started in the correct subgraph, how many did we recover?"
   ]
  },
  {
   "cell_type": "code",
   "execution_count": null,
   "id": "4bcb96db",
   "metadata": {},
   "outputs": [],
   "source": [
    "df_when_we_get_correct_subgraph = df[df[\"recall@all\"] == 1]"
   ]
  },
  {
   "cell_type": "code",
   "execution_count": null,
   "id": "452442c9",
   "metadata": {},
   "outputs": [
    {
     "data": {
      "text/plain": [
       "50"
      ]
     },
     "execution_count": 15,
     "metadata": {},
     "output_type": "execute_result"
    }
   ],
   "source": [
    "len(df_when_we_get_correct_subgraph)"
   ]
  },
  {
   "cell_type": "code",
   "execution_count": null,
   "id": "330bb299",
   "metadata": {},
   "outputs": [
    {
     "data": {
      "text/plain": [
       "[('Hit@1', 0.5), ('Hit@5', 0.8), ('Recall@20', 0.861), ('Recall@all', 1.0)]"
      ]
     },
     "execution_count": 16,
     "metadata": {},
     "output_type": "execute_result"
    }
   ],
   "source": [
    "[\n",
    "    (\"Hit@1\", float(round(df_when_we_get_correct_subgraph[\"hit@1\"].mean(), 3))),\n",
    "    (\"Hit@5\", float(round(df_when_we_get_correct_subgraph[\"hit@5\"].mean(), 3))),\n",
    "    # (\"Hit@10\", float(round(df_when_we_get_correct_subgraph[\"hit@10\"].mean(), 3))),\n",
    "    (\"Recall@20\", float(round(df_when_we_get_correct_subgraph[\"recall@20\"].mean(), 3))),\n",
    "    (\"Recall@all\", float(round(df_when_we_get_correct_subgraph[\"recall@all\"].mean(), 3))),\n",
    "]"
   ]
  },
  {
   "cell_type": "markdown",
   "id": "b64678db",
   "metadata": {},
   "source": [
    "### Can we match any of the central nodes to the question?"
   ]
  },
  {
   "cell_type": "code",
   "execution_count": null,
   "id": "7da9a436",
   "metadata": {},
   "outputs": [],
   "source": [
    "df[\"exact_matching_nodes_indices\"] = df.apply(\n",
    "    lambda row: [\n",
    "        i\n",
    "        for i in list(set(row[\"sorted_central_nodes_indices\"]))\n",
    "        if graph.get_node_by_index(i).name in row[\"question\"]\n",
    "    ],\n",
    "    axis=1,\n",
    ")\n",
    "df[\"exact_matching_node_names\"] = df[\"exact_matching_nodes_indices\"].apply(\n",
    "    lambda exact_matching_nodes_indices: [\n",
    "        graph.get_node_by_index(i).name for i in exact_matching_nodes_indices\n",
    "    ]\n",
    ")\n",
    "df[\"starting_node_name\"] = df[\"starting_node_index\"].apply(\n",
    "    lambda i: graph.get_node_by_index(i).name\n",
    ")\n",
    "df[\"starting_node_matches\"] = df.apply(\n",
    "    lambda row: row[\"starting_node_index\"] in row[\"exact_matching_nodes_indices\"],\n",
    "    axis=1,\n",
    ")"
   ]
  },
  {
   "cell_type": "markdown",
   "id": "62cbc010",
   "metadata": {},
   "source": [
    "An interesting result: when the starting node literally appears in the question, we get better results."
   ]
  },
  {
   "cell_type": "code",
   "execution_count": null,
   "id": "939d1e19",
   "metadata": {},
   "outputs": [
    {
     "data": {
      "text/html": [
       "<div>\n",
       "<style scoped>\n",
       "    .dataframe tbody tr th:only-of-type {\n",
       "        vertical-align: middle;\n",
       "    }\n",
       "\n",
       "    .dataframe tbody tr th {\n",
       "        vertical-align: top;\n",
       "    }\n",
       "\n",
       "    .dataframe thead th {\n",
       "        text-align: right;\n",
       "    }\n",
       "</style>\n",
       "<table border=\"1\" class=\"dataframe\">\n",
       "  <thead>\n",
       "    <tr style=\"text-align: right;\">\n",
       "      <th></th>\n",
       "      <th>recall@all</th>\n",
       "      <th>recall@20</th>\n",
       "      <th>hit@1</th>\n",
       "      <th>hit@5</th>\n",
       "      <th>count</th>\n",
       "    </tr>\n",
       "    <tr>\n",
       "      <th>starting_node_matches</th>\n",
       "      <th></th>\n",
       "      <th></th>\n",
       "      <th></th>\n",
       "      <th></th>\n",
       "      <th></th>\n",
       "    </tr>\n",
       "  </thead>\n",
       "  <tbody>\n",
       "    <tr>\n",
       "      <th>False</th>\n",
       "      <td>0.633333</td>\n",
       "      <td>0.508333</td>\n",
       "      <td>0.2</td>\n",
       "      <td>0.60000</td>\n",
       "      <td>10</td>\n",
       "    </tr>\n",
       "    <tr>\n",
       "      <th>True</th>\n",
       "      <td>0.956522</td>\n",
       "      <td>0.832428</td>\n",
       "      <td>0.5</td>\n",
       "      <td>0.76087</td>\n",
       "      <td>46</td>\n",
       "    </tr>\n",
       "  </tbody>\n",
       "</table>\n",
       "</div>"
      ],
      "text/plain": [
       "                       recall@all  recall@20  hit@1    hit@5  count\n",
       "starting_node_matches                                              \n",
       "False                    0.633333   0.508333    0.2  0.60000     10\n",
       "True                     0.956522   0.832428    0.5  0.76087     46"
      ]
     },
     "execution_count": 18,
     "metadata": {},
     "output_type": "execute_result"
    }
   ],
   "source": [
    "df.groupby('starting_node_matches').agg(\n",
    "    {\n",
    "        \"recall@all\": \"mean\",\n",
    "        \"recall@20\": \"mean\",\n",
    "        \"hit@1\": \"mean\",\n",
    "        \"hit@5\": \"mean\",\n",
    "        \"file_id\": \"count\"\n",
    "    }\n",
    ").rename(columns={\"file_id\": \"count\"})"
   ]
  },
  {
   "cell_type": "markdown",
   "id": "b497c503",
   "metadata": {},
   "source": [
    "Look at this: In many rows even more than one node appears literally named in the question"
   ]
  },
  {
   "cell_type": "code",
   "execution_count": null,
   "id": "1cb553b5",
   "metadata": {},
   "outputs": [
    {
     "data": {
      "text/plain": [
       "n_of_exact_matching_nodes\n",
       "1    45\n",
       "0     9\n",
       "2     2\n",
       "Name: count, dtype: int64"
      ]
     },
     "execution_count": 19,
     "metadata": {},
     "output_type": "execute_result"
    }
   ],
   "source": [
    "df['n_of_exact_matching_nodes'] = df['exact_matching_nodes_indices'].apply(len)\n",
    "df['n_of_exact_matching_nodes'].value_counts()"
   ]
  },
  {
   "cell_type": "code",
   "execution_count": null,
   "id": "fc55e253",
   "metadata": {},
   "outputs": [
    {
     "name": "stdout",
     "output_type": "stream",
     "text": [
      "Question: Find publications from Carma researchers that report detections using the Australian Square Kilometre Array Pathfinder (ASKAP) radio telescope.\n",
      "Starting node name: Askap: Australian Ska Pathfinder\n",
      "\n",
      "Other candidates for starting node: ['Askap: Australian Ska Pathfinder', 'Carma']\n",
      "\n",
      "Question: What other research papers investigating effective techniques beyond semilocal density-functional theory are referenced in the paper titled \"Analytical First-Order Molecular Properties and Forces within the Adiabatic Connection Random Phase Approximation\"?\n",
      "Starting node name: Analytical First-Order Molecular Properties and Forces within the Adiabatic Connection Random Phase Approximation.\n",
      "\n",
      "Other candidates for starting node: ['Analytical First-Order Molecular Properties and Forces within the Adiabatic Connection Random Phase Approximation.', 'Orbital localization, charge transfer, and band gaps in semilocal density-functional theory.']\n",
      "\n",
      "Question: Show me articles on deformable mirror modeling techniques within the pressure control domain.\n",
      "Starting node name: Deformable mirror\n",
      "\n",
      "Other candidates for starting node: ['Deformable mirror', 'Overview of geometrical room acoustic modeling techniques', 'Pressure control']\n",
      "\n",
      "Question: I'm looking for papers on neural ensembles, specifically focusing on cross-frequency coupling in the human hippocampus linked to working memory tasks.\n",
      "Starting node name: Cross-frequency coupling supports multi-item working memory in the human hippocampus\n",
      "\n",
      "Other candidates for starting node: ['Cross-frequency coupling supports multi-item working memory in the human hippocampus', 'Working memory', 'Cross-frequency coupling supports multi-item working memory in the human hippocampus', 'Scanning Probe State Recognition With Multi-Class Neural Network Ensembles.']\n",
      "\n",
      "Question: List papers discussing shock wave solution behaviors in the context of weak solutions.\n",
      "Starting node name: Shock wave\n",
      "\n",
      "Other candidates for starting node: ['Shock wave', 'Global Weak Solutions to One-Dimensional Non-Conservative Viscous Compressible Two-Phase System']\n",
      "\n",
      "Question: Are there any studies from Welley College focusing on the newly discovered highly irradiated hot Jupiter planet within the discourse of gas giant planet research?\n",
      "Starting node name: Chemical fingerprints of hot Jupiter planet formation\n",
      "\n",
      "Other candidates for starting node: ['Chemical fingerprints of hot Jupiter planet formation', 'Giant planet', 'Raiganj College (University College)']\n",
      "\n",
      "Question: List of research articles on the interaction of drag forces with particles in cavity walls\n",
      "Starting node name: Ion drag forces and magnetomechanical effect\n",
      "\n",
      "Other candidates for starting node: ['Ion drag forces and magnetomechanical effect', 'The complex chemistry of outflow cavity walls exposed: the case of low-mass protostars', 'Identical particles']\n",
      "\n",
      "Question: I'm looking for research articles on how including land subsidence impacts coastal vulnerability assessments within the vulnerability assessment domain.\n",
      "Starting node name: Vulnerability assessment\n",
      "\n",
      "Other candidates for starting node: ['Vulnerability assessment', 'Subsidence', 'Vulnerability assessment']\n",
      "\n",
      "Question: I'm looking for publications on the adjustment of topological phases within the pseudospectrum domain through system parameter alteration.\n",
      "Starting node name: Photonic quadrupole topological phases\n",
      "\n",
      "Other candidates for starting node: ['Photonic quadrupole topological phases', 'Pseudospectrum', 'Distributed parameter system']\n",
      "\n",
      "Question: Which scholarly articles related to the influential factors in polymer gel dosimetry have referenced or are connected to the study \"Preparation of polymer gel dosimeters based on less toxic monomers and gellan gum\"?\n",
      "Starting node name: Preparation of polymer gel dosimeters based on less toxic monomers and gellan gum.\n",
      "\n",
      "Other candidates for starting node: ['Preparation of polymer gel dosimeters based on less toxic monomers and gellan gum.', 'Polymer gel dosimetry']\n",
      "\n"
     ]
    }
   ],
   "source": [
    "for _, row in df[df['starting_node_matches'] == False].iterrows():\n",
    "    \n",
    "    sorted_central_node_names = [\n",
    "        graph.get_node_by_index(i).name for i in row['sorted_central_nodes_indices']\n",
    "    ]\n",
    "    print(f\"Question: {row['question']}\")\n",
    "    print(f\"Starting node name: {row['starting_node_name']}\\n\")\n",
    "    print(f\"Other candidates for starting node: {sorted_central_node_names}\\n\")\n",
    "    "
   ]
  },
  {
   "cell_type": "code",
   "execution_count": null,
   "id": "c40866c6",
   "metadata": {},
   "outputs": [],
   "source": []
  },
  {
   "cell_type": "code",
   "execution_count": null,
   "id": "ffa8cf32",
   "metadata": {},
   "outputs": [],
   "source": []
  }
 ],
 "metadata": {
  "kernelspec": {
   "display_name": ".venv",
   "language": "python",
   "name": "python3"
  },
  "language_info": {
   "codemirror_mode": {
    "name": "ipython",
    "version": 3
   },
   "file_extension": ".py",
   "mimetype": "text/x-python",
   "name": "python",
   "nbconvert_exporter": "python",
   "pygments_lexer": "ipython3",
   "version": "3.11.12"
  }
 },
 "nbformat": 4,
 "nbformat_minor": 5
}
