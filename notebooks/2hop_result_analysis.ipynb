{
 "cells": [
  {
   "cell_type": "code",
   "execution_count": 99,
   "id": "6f0d7305",
   "metadata": {},
   "outputs": [],
   "source": [
    "import json\n",
    "import pandas as pd\n",
    "import os\n",
    "from pathlib import Path\n",
    "import sys\n",
    "\n",
    "sys.path.append(\"../\")\n",
    "\n",
    "\n",
    "from config import DATA_DIR"
   ]
  },
  {
   "cell_type": "code",
   "execution_count": 100,
   "id": "c2fdf1b6",
   "metadata": {},
   "outputs": [],
   "source": [
    "logs_dir = DATA_DIR / \"connectedness/mag_logs_2hop\"\n",
    "json_files = sorted([f for f in logs_dir.glob(\"*.json\")])\n",
    "\n",
    "data = []\n",
    "\n",
    "for json_file in json_files:\n",
    "    with open(json_file, \"r\") as f:\n",
    "        log_data = json.load(f)\n",
    "\n",
    "    # Extract key information from each log entry\n",
    "    record = {\n",
    "        \"file_id\": json_file.stem,\n",
    "        \"question\": log_data.get(\"question\", \"\"),\n",
    "        \"answer_indices\": log_data.get(\"answer_indices\", []),\n",
    "        'sorted_candidates': log_data.get(\"sorted_candidates\", []),\n",
    "        \"hit@1\": log_data.get(\"hit@1\", None),\n",
    "        \"hit@5\": log_data.get(\"hit@5\", None),\n",
    "        \"recall@20\": log_data.get(\"recall@20\", None),\n",
    "    }\n",
    "\n",
    "    data.append(record)\n",
    "    \n",
    "df = pd.DataFrame(data)"
   ]
  },
  {
   "cell_type": "code",
   "execution_count": 101,
   "id": "4e114acf",
   "metadata": {},
   "outputs": [
    {
     "data": {
      "text/html": [
       "<div>\n",
       "<style scoped>\n",
       "    .dataframe tbody tr th:only-of-type {\n",
       "        vertical-align: middle;\n",
       "    }\n",
       "\n",
       "    .dataframe tbody tr th {\n",
       "        vertical-align: top;\n",
       "    }\n",
       "\n",
       "    .dataframe thead th {\n",
       "        text-align: right;\n",
       "    }\n",
       "</style>\n",
       "<table border=\"1\" class=\"dataframe\">\n",
       "  <thead>\n",
       "    <tr style=\"text-align: right;\">\n",
       "      <th></th>\n",
       "      <th>file_id</th>\n",
       "      <th>question</th>\n",
       "      <th>answer_indices</th>\n",
       "      <th>sorted_candidates</th>\n",
       "      <th>hit@1</th>\n",
       "      <th>hit@5</th>\n",
       "      <th>recall@20</th>\n",
       "    </tr>\n",
       "  </thead>\n",
       "  <tbody>\n",
       "    <tr>\n",
       "      <th>0</th>\n",
       "      <td>0</td>\n",
       "      <td>Does any research from the Indian Maritime Uni...</td>\n",
       "      <td>[1600189]</td>\n",
       "      <td>[1600189, 1254035]</td>\n",
       "      <td>True</td>\n",
       "      <td>True</td>\n",
       "      <td>1.000000</td>\n",
       "    </tr>\n",
       "    <tr>\n",
       "      <th>1</th>\n",
       "      <td>1</td>\n",
       "      <td>Show me articles related to magnetic field stu...</td>\n",
       "      <td>[1265762]</td>\n",
       "      <td>[1265762, 1390758, 1584269, 1185665, 1275328, ...</td>\n",
       "      <td>True</td>\n",
       "      <td>True</td>\n",
       "      <td>1.000000</td>\n",
       "    </tr>\n",
       "    <tr>\n",
       "      <th>2</th>\n",
       "      <td>10</td>\n",
       "      <td>Show me publications from the co-authors of \"C...</td>\n",
       "      <td>[1521384, 1578676, 1289934]</td>\n",
       "      <td>[1422742, 1361436, 1492642, 1424718, 1365479, ...</td>\n",
       "      <td>False</td>\n",
       "      <td>False</td>\n",
       "      <td>0.666667</td>\n",
       "    </tr>\n",
       "    <tr>\n",
       "      <th>3</th>\n",
       "      <td>11</td>\n",
       "      <td>Show me publications by Jianxin Ma on new tech...</td>\n",
       "      <td>[1686364]</td>\n",
       "      <td>[1779954, 1622059, 1414886, 1436282, 1300727, ...</td>\n",
       "      <td>False</td>\n",
       "      <td>False</td>\n",
       "      <td>0.000000</td>\n",
       "    </tr>\n",
       "    <tr>\n",
       "      <th>4</th>\n",
       "      <td>12</td>\n",
       "      <td>Are there any publications from 2015 with shar...</td>\n",
       "      <td>[1660601]</td>\n",
       "      <td>[1660601, 1251389, 1674818, 1824257, 1304392, ...</td>\n",
       "      <td>True</td>\n",
       "      <td>True</td>\n",
       "      <td>1.000000</td>\n",
       "    </tr>\n",
       "  </tbody>\n",
       "</table>\n",
       "</div>"
      ],
      "text/plain": [
       "  file_id                                           question  \\\n",
       "0       0  Does any research from the Indian Maritime Uni...   \n",
       "1       1  Show me articles related to magnetic field stu...   \n",
       "2      10  Show me publications from the co-authors of \"C...   \n",
       "3      11  Show me publications by Jianxin Ma on new tech...   \n",
       "4      12  Are there any publications from 2015 with shar...   \n",
       "\n",
       "                answer_indices  \\\n",
       "0                    [1600189]   \n",
       "1                    [1265762]   \n",
       "2  [1521384, 1578676, 1289934]   \n",
       "3                    [1686364]   \n",
       "4                    [1660601]   \n",
       "\n",
       "                                   sorted_candidates  hit@1  hit@5  recall@20  \n",
       "0                                 [1600189, 1254035]   True   True   1.000000  \n",
       "1  [1265762, 1390758, 1584269, 1185665, 1275328, ...   True   True   1.000000  \n",
       "2  [1422742, 1361436, 1492642, 1424718, 1365479, ...  False  False   0.666667  \n",
       "3  [1779954, 1622059, 1414886, 1436282, 1300727, ...  False  False   0.000000  \n",
       "4  [1660601, 1251389, 1674818, 1824257, 1304392, ...   True   True   1.000000  "
      ]
     },
     "execution_count": 101,
     "metadata": {},
     "output_type": "execute_result"
    }
   ],
   "source": [
    "df.head()"
   ]
  },
  {
   "cell_type": "code",
   "execution_count": 102,
   "id": "a7d4a610",
   "metadata": {},
   "outputs": [
    {
     "data": {
      "text/plain": [
       "np.float64(0.7876984126984126)"
      ]
     },
     "execution_count": 102,
     "metadata": {},
     "output_type": "execute_result"
    }
   ],
   "source": [
    "df['recall@20'].mean()"
   ]
  },
  {
   "cell_type": "code",
   "execution_count": 103,
   "id": "020384d7",
   "metadata": {},
   "outputs": [],
   "source": [
    "import matplotlib.pyplot as plt\n",
    "import numpy as np"
   ]
  },
  {
   "cell_type": "code",
   "execution_count": 104,
   "id": "5370872b",
   "metadata": {},
   "outputs": [
    {
     "data": {
      "image/png": "[encoded data removed]",
      "text/plain": [
       "<Figure size 800x400 with 1 Axes>"
      ]
     },
     "metadata": {},
     "output_type": "display_data"
    }
   ],
   "source": [
    "column = 'recall@20'\n",
    "\n",
    "df['index'] = df.index\n",
    "df = df.sort_values('index').reset_index(drop=True)\n",
    "\n",
    "means = df[column].expanding().mean()\n",
    "n_rows = np.arange(1, len(means) + 1)\n",
    "\n",
    "plt.figure(figsize=(8, 4))\n",
    "plt.plot(n_rows, means)\n",
    "plt.xlabel(\"n (number of rows included)\")\n",
    "plt.ylabel(f\"Mean {column} up to row n\")\n",
    "plt.title(f\"Cumulative Mean of {column}\")\n",
    "plt.grid(True)\n",
    "plt.show()"
   ]
  },
  {
   "cell_type": "code",
   "execution_count": null,
   "id": "86a87e1e",
   "metadata": {},
   "outputs": [],
   "source": []
  }
 ],
 "metadata": {
  "kernelspec": {
   "display_name": ".venv",
   "language": "python",
   "name": "python3"
  },
  "language_info": {
   "codemirror_mode": {
    "name": "ipython",
    "version": 3
   },
   "file_extension": ".py",
   "mimetype": "text/x-python",
   "name": "python",
   "nbconvert_exporter": "python",
   "pygments_lexer": "ipython3",
   "version": "3.11.12"
  }
 },
 "nbformat": 4,
 "nbformat_minor": 5
}
