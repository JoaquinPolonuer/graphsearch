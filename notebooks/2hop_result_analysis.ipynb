{
 "cells": [
  {
   "cell_type": "code",
   "execution_count": 1,
   "id": "6f0d7305",
   "metadata": {},
   "outputs": [],
   "source": [
    "import json\n",
    "import pandas as pd\n",
    "import os\n",
    "from pathlib import Path\n",
    "import sys\n",
    "\n",
    "sys.path.append(\"../\")\n",
    "\n",
    "from config import DATA_DIR\n",
    "from graph_types.graph import Graph\n",
    "\n",
    "graph = Graph.load(\"mag\")"
   ]
  },
  {
   "cell_type": "code",
   "execution_count": 2,
   "id": "c2fdf1b6",
   "metadata": {},
   "outputs": [],
   "source": [
    "logs_dir = DATA_DIR / f\"experiments/{graph.name}/2hop\"\n",
    "json_files = sorted([f for f in logs_dir.glob(\"*.json\")])\n",
    "\n",
    "data = []\n",
    "\n",
    "for json_file in json_files:\n",
    "    with open(json_file, \"r\") as f:\n",
    "        log_data = json.load(f)\n",
    "\n",
    "    # Extract key information from each log entry\n",
    "    record = {\n",
    "        \"file_id\": int(json_file.stem),\n",
    "        \"question\": log_data.get(\"question\", \"\"),\n",
    "        \"starting_node_index\": log_data.get(\n",
    "            \"starting_node_index\", log_data.get(\"sorted_central_nodes_indices\", [])[0]\n",
    "        ),\n",
    "        \"sorted_central_nodes_indices\": log_data.get(\"sorted_central_nodes_indices\", []),\n",
    "        \"sorted_candidates_indices\": log_data.get(\"sorted_candidates_indices\", []),\n",
    "        \"answer_type\": log_data.get(\"answer_type\", \"\"),\n",
    "        \"answer_indices\": log_data.get(\"answer_indices\", []),\n",
    "    }\n",
    "\n",
    "    data.append(record)\n",
    "\n",
    "df = pd.DataFrame(data).sort_values(by=\"file_id\").reset_index(drop=True)"
   ]
  },
  {
   "cell_type": "code",
   "execution_count": 3,
   "id": "38c701f8",
   "metadata": {},
   "outputs": [],
   "source": [
    "df[\"recall@all\"] = df.apply(\n",
    "    lambda row: len(set(row[\"answer_indices\"]).intersection(set(row[\"sorted_candidates_indices\"])))\n",
    "    / len(set(row[\"answer_indices\"])),\n",
    "    axis=1,\n",
    ")\n",
    "df[\"hit@1\"] = df.apply(\n",
    "    lambda row: row[\"sorted_candidates_indices\"][0] in row[\"answer_indices\"] if row[\"sorted_candidates_indices\"] else False,\n",
    "    axis=1,\n",
    ")\n",
    "df[\"hit@5\"] = df.apply(\n",
    "    lambda row: len(set(row[\"answer_indices\"]).intersection(set(row[\"sorted_candidates_indices\"][:5]))) > 0,\n",
    "    axis=1,\n",
    ")\n",
    "df[\"hit@10\"] = df.apply(\n",
    "    lambda row: len(set(row[\"answer_indices\"]).intersection(set(row[\"sorted_candidates_indices\"][:10]))) > 0,\n",
    "    axis=1,\n",
    ")\n",
    "df[\"recall@20\"] = df.apply(\n",
    "    lambda row: len(set(row[\"answer_indices\"]).intersection(set(row[\"sorted_candidates_indices\"][:20])))\n",
    "    / len(set(row[\"answer_indices\"])),\n",
    "    axis=1,\n",
    ")"
   ]
  },
  {
   "cell_type": "markdown",
   "id": "fd240608",
   "metadata": {},
   "source": [
    "### Metrics"
   ]
  },
  {
   "cell_type": "code",
   "execution_count": 4,
   "id": "3b7f83a1",
   "metadata": {},
   "outputs": [
    {
     "data": {
      "text/plain": [
       "[('Hit@1', 0.474),\n",
       " ('Hit@5', 0.753),\n",
       " ('Recall@20', 0.762),\n",
       " ('Recall@all', 0.913)]"
      ]
     },
     "execution_count": 4,
     "metadata": {},
     "output_type": "execute_result"
    }
   ],
   "source": [
    "[\n",
    "    (\"Hit@1\", float(round(df[\"hit@1\"].mean(), 3))),\n",
    "    (\"Hit@5\", float(round(df[\"hit@5\"].mean(), 3))),\n",
    "    (\"Recall@20\", float(round(df[\"recall@20\"].mean(), 3))),\n",
    "    (\"Recall@all\", float(round(df[\"recall@all\"].mean(), 3))),\n",
    "]"
   ]
  },
  {
   "cell_type": "markdown",
   "id": "115a4eb0",
   "metadata": {},
   "source": [
    "### What was the starting node when we didn't hit the correct subgraph?"
   ]
  },
  {
   "cell_type": "code",
   "execution_count": 5,
   "id": "106d4cab",
   "metadata": {},
   "outputs": [
    {
     "name": "stdout",
     "output_type": "stream",
     "text": [
      "Question: Search for publications by Hu Zhiyuan on the impact of radiation on flash memory input/output components.\n",
      "Starting node: AuthorNode(name=Hu Zhiyuan, index=204626, type=author)\n",
      "Other candidate for starting node: 1643284\n",
      "\n",
      "Question: Find publications from Carma researchers that report detections using the Australian Square Kilometre Array Pathfinder (ASKAP) radio telescope.\n",
      "Starting node: AuthorNode(name=Askap: Australian Ska Pathfinder, index=923663, type=author)\n",
      "Other candidate for starting node: 1104625\n",
      "\n",
      "Question: Show me articles on deformable mirror modeling techniques within the pressure control domain.\n",
      "Starting node: PaperNode(name=Modeling a MEMS deformable mirror using non-parametric estimation techniques, index=1370572, type=paper)\n",
      "Other candidate for starting node: 1150735\n",
      "\n",
      "Question: List papers discussing shock wave solution behaviors in the context of weak solutions.\n",
      "Starting node: FieldOfStudyNode(name=Shock wave, index=1121443, type=field_of_study)\n",
      "Other candidate for starting node: 1309580\n",
      "\n",
      "Question: List of research articles on the interaction of drag forces with particles in cavity walls\n",
      "Starting node: PaperNode(name=Ion drag forces and magnetomechanical effect, index=1440426, type=paper)\n",
      "Other candidate for starting node: 1117180\n",
      "\n",
      "Question: Show me publications by Daifa Wang on reconstructive techniques in fluorescence molecular tomography.\n",
      "Starting node: AuthorNode(name=Daifa Wang, index=309404, type=author)\n",
      "Other candidate for starting node: 1841918\n",
      "\n",
      "Question: Show me research articles focused on analog electronic circuits examining the saturation behavior in FinFET transistors.\n",
      "Starting node: PaperNode(name=Maxwell's demons realized in electronic circuits, index=1698402, type=paper)\n",
      "Other candidate for starting node: 1192539\n",
      "\n",
      "Question: Show me publications by Vinod Narayanan on microscale heat transfer mechanisms.\n",
      "Starting node: AuthorNode(name=Vinod Narayanan, index=505002, type=author)\n",
      "Other candidate for starting node: 1367992\n",
      "\n",
      "Question: Show me publications by Juan Guo on jet-induced filament eruptions.\n",
      "Starting node: AuthorNode(name=Juan-Juan Guo, index=817174, type=author)\n",
      "Other candidate for starting node: 1791438\n",
      "\n"
     ]
    }
   ],
   "source": [
    "for _, row in df[df[\"recall@all\"] != 1].iterrows():\n",
    "    starting_node = graph.get_node_by_index(\n",
    "        (row[\"sorted_central_nodes_indices\"][0] if row[\"sorted_central_nodes_indices\"] else \"None\")\n",
    "    )\n",
    "\n",
    "    print(f\"Question: {row['question']}\\nStarting node: {starting_node}\")\n",
    "    print(\n",
    "        f\"Other candidate for starting node: {row['sorted_central_nodes_indices'][1] if len(row['sorted_central_nodes_indices']) > 1 else 'None'}\\n\"\n",
    "    )"
   ]
  },
  {
   "cell_type": "markdown",
   "id": "a5dabe18",
   "metadata": {},
   "source": [
    "### When we started in the correct subgraph, how many did we recover?"
   ]
  },
  {
   "cell_type": "code",
   "execution_count": 6,
   "id": "4bcb96db",
   "metadata": {},
   "outputs": [],
   "source": [
    "df_when_we_get_correct_subgraph = df[df[\"recall@all\"] == 1]"
   ]
  },
  {
   "cell_type": "code",
   "execution_count": 7,
   "id": "452442c9",
   "metadata": {},
   "outputs": [
    {
     "data": {
      "text/plain": [
       "88"
      ]
     },
     "execution_count": 7,
     "metadata": {},
     "output_type": "execute_result"
    }
   ],
   "source": [
    "len(df_when_we_get_correct_subgraph)"
   ]
  },
  {
   "cell_type": "code",
   "execution_count": 8,
   "id": "330bb299",
   "metadata": {},
   "outputs": [
    {
     "data": {
      "text/plain": [
       "[('Hit@1', 0.511), ('Hit@5', 0.807), ('Recall@20', 0.834), ('Recall@all', 1.0)]"
      ]
     },
     "execution_count": 8,
     "metadata": {},
     "output_type": "execute_result"
    }
   ],
   "source": [
    "[\n",
    "    (\"Hit@1\", float(round(df_when_we_get_correct_subgraph[\"hit@1\"].mean(), 3))),\n",
    "    (\"Hit@5\", float(round(df_when_we_get_correct_subgraph[\"hit@5\"].mean(), 3))),\n",
    "    # (\"Hit@10\", float(round(df_when_we_get_correct_subgraph[\"hit@10\"].mean(), 3))),\n",
    "    (\"Recall@20\", float(round(df_when_we_get_correct_subgraph[\"recall@20\"].mean(), 3))),\n",
    "    (\"Recall@all\", float(round(df_when_we_get_correct_subgraph[\"recall@all\"].mean(), 3))),\n",
    "]"
   ]
  },
  {
   "cell_type": "markdown",
   "id": "b64678db",
   "metadata": {},
   "source": [
    "### Can we match any of the central nodes to the question?"
   ]
  },
  {
   "cell_type": "code",
   "execution_count": 9,
   "id": "7da9a436",
   "metadata": {},
   "outputs": [],
   "source": [
    "df[\"exact_matching_nodes_indices\"] = df.apply(\n",
    "    lambda row: [\n",
    "        i\n",
    "        for i in list(set(row[\"sorted_central_nodes_indices\"]))\n",
    "        if graph.get_node_by_index(i).name in row[\"question\"]\n",
    "    ],\n",
    "    axis=1,\n",
    ")\n",
    "df[\"exact_matching_node_names\"] = df[\"exact_matching_nodes_indices\"].apply(\n",
    "    lambda exact_matching_nodes_indices: [\n",
    "        graph.get_node_by_index(i).name for i in exact_matching_nodes_indices\n",
    "    ]\n",
    ")\n",
    "df[\"starting_node_name\"] = df[\"starting_node_index\"].apply(\n",
    "    lambda i: graph.get_node_by_index(i).name\n",
    ")\n",
    "df[\"starting_node_matches\"] = df.apply(\n",
    "    lambda row: row[\"starting_node_index\"] in row[\"exact_matching_nodes_indices\"],\n",
    "    axis=1,\n",
    ")"
   ]
  },
  {
   "cell_type": "markdown",
   "id": "62cbc010",
   "metadata": {},
   "source": [
    "An interesting result: when the starting node literally appears in the question, we get better results."
   ]
  },
  {
   "cell_type": "code",
   "execution_count": 10,
   "id": "939d1e19",
   "metadata": {},
   "outputs": [
    {
     "data": {
      "text/html": [
       "<div>\n",
       "<style scoped>\n",
       "    .dataframe tbody tr th:only-of-type {\n",
       "        vertical-align: middle;\n",
       "    }\n",
       "\n",
       "    .dataframe tbody tr th {\n",
       "        vertical-align: top;\n",
       "    }\n",
       "\n",
       "    .dataframe thead th {\n",
       "        text-align: right;\n",
       "    }\n",
       "</style>\n",
       "<table border=\"1\" class=\"dataframe\">\n",
       "  <thead>\n",
       "    <tr style=\"text-align: right;\">\n",
       "      <th></th>\n",
       "      <th>recall@all</th>\n",
       "      <th>recall@20</th>\n",
       "      <th>hit@1</th>\n",
       "      <th>hit@5</th>\n",
       "      <th>count</th>\n",
       "    </tr>\n",
       "    <tr>\n",
       "      <th>starting_node_matches</th>\n",
       "      <th></th>\n",
       "      <th></th>\n",
       "      <th></th>\n",
       "      <th></th>\n",
       "      <th></th>\n",
       "    </tr>\n",
       "  </thead>\n",
       "  <tbody>\n",
       "    <tr>\n",
       "      <th>False</th>\n",
       "      <td>0.666667</td>\n",
       "      <td>0.490196</td>\n",
       "      <td>0.235294</td>\n",
       "      <td>0.470588</td>\n",
       "      <td>17</td>\n",
       "    </tr>\n",
       "    <tr>\n",
       "      <th>True</th>\n",
       "      <td>0.965000</td>\n",
       "      <td>0.820220</td>\n",
       "      <td>0.525000</td>\n",
       "      <td>0.812500</td>\n",
       "      <td>80</td>\n",
       "    </tr>\n",
       "  </tbody>\n",
       "</table>\n",
       "</div>"
      ],
      "text/plain": [
       "                       recall@all  recall@20     hit@1     hit@5  count\n",
       "starting_node_matches                                                  \n",
       "False                    0.666667   0.490196  0.235294  0.470588     17\n",
       "True                     0.965000   0.820220  0.525000  0.812500     80"
      ]
     },
     "execution_count": 10,
     "metadata": {},
     "output_type": "execute_result"
    }
   ],
   "source": [
    "df.groupby('starting_node_matches').agg(\n",
    "    {\n",
    "        \"recall@all\": \"mean\",\n",
    "        \"recall@20\": \"mean\",\n",
    "        \"hit@1\": \"mean\",\n",
    "        \"hit@5\": \"mean\",\n",
    "        \"file_id\": \"count\"\n",
    "    }\n",
    ").rename(columns={\"file_id\": \"count\"})"
   ]
  },
  {
   "cell_type": "markdown",
   "id": "b497c503",
   "metadata": {},
   "source": [
    "Look at this: In many rows even more than one node appears literally named in the question"
   ]
  },
  {
   "cell_type": "code",
   "execution_count": 11,
   "id": "1cb553b5",
   "metadata": {},
   "outputs": [
    {
     "data": {
      "text/plain": [
       "n_of_exact_matching_nodes\n",
       "1    78\n",
       "0    15\n",
       "2     4\n",
       "Name: count, dtype: int64"
      ]
     },
     "execution_count": 11,
     "metadata": {},
     "output_type": "execute_result"
    }
   ],
   "source": [
    "df['n_of_exact_matching_nodes'] = df['exact_matching_nodes_indices'].apply(len)\n",
    "df['n_of_exact_matching_nodes'].value_counts()"
   ]
  },
  {
   "cell_type": "code",
   "execution_count": 12,
   "id": "fc55e253",
   "metadata": {},
   "outputs": [
    {
     "name": "stdout",
     "output_type": "stream",
     "text": [
      "Question: Find publications from Carma researchers that report detections using the Australian Square Kilometre Array Pathfinder (ASKAP) radio telescope.\n",
      "Starting node name: Askap: Australian Ska Pathfinder\n",
      "\n",
      "Other candidates for starting node: ['Askap: Australian Ska Pathfinder', 'Carma']\n",
      "\n",
      "Question: What other research papers investigating effective techniques beyond semilocal density-functional theory are referenced in the paper titled \"Analytical First-Order Molecular Properties and Forces within the Adiabatic Connection Random Phase Approximation\"?\n",
      "Starting node name: Analytical First-Order Molecular Properties and Forces within the Adiabatic Connection Random Phase Approximation.\n",
      "\n",
      "Other candidates for starting node: ['Analytical First-Order Molecular Properties and Forces within the Adiabatic Connection Random Phase Approximation.', 'Density functional theory']\n",
      "\n",
      "Question: Show me articles on deformable mirror modeling techniques within the pressure control domain.\n",
      "Starting node name: Modeling a MEMS deformable mirror using non-parametric estimation techniques\n",
      "\n",
      "Other candidates for starting node: ['Modeling a MEMS deformable mirror using non-parametric estimation techniques', 'Pressure control']\n",
      "\n",
      "Question: I'm looking for papers on neural ensembles, specifically focusing on cross-frequency coupling in the human hippocampus linked to working memory tasks.\n",
      "Starting node name: Working memory\n",
      "\n",
      "Other candidates for starting node: ['Working memory', 'Hippocampus', 'Scanning Probe State Recognition With Multi-Class Neural Network Ensembles.', 'Cross-frequency coupling supports multi-item working memory in the human hippocampus']\n",
      "\n",
      "Question: List papers discussing shock wave solution behaviors in the context of weak solutions.\n",
      "Starting node name: Shock wave\n",
      "\n",
      "Other candidates for starting node: ['Shock wave', 'Analytical solutions for weak black hole kicks']\n",
      "\n",
      "Question: Are there any studies from Welley College focusing on the newly discovered highly irradiated hot Jupiter planet within the discourse of gas giant planet research?\n",
      "Starting node name: Chemical fingerprints of hot Jupiter planet formation\n",
      "\n",
      "Other candidates for starting node: ['Chemical fingerprints of hot Jupiter planet formation', 'Giant planet', 'Raiganj College (University College)']\n",
      "\n",
      "Question: List of research articles on the interaction of drag forces with particles in cavity walls\n",
      "Starting node name: Ion drag forces and magnetomechanical effect\n",
      "\n",
      "Other candidates for starting node: ['Ion drag forces and magnetomechanical effect', 'Identical particles', 'Thermal storage characteristics for rectangular cavity with partially active walls']\n",
      "\n",
      "Question: I'm looking for research articles on how including land subsidence impacts coastal vulnerability assessments within the vulnerability assessment domain.\n",
      "Starting node name: Vulnerability assessment\n",
      "\n",
      "Other candidates for starting node: ['Vulnerability assessment', 'Subsidence', 'Vulnerability']\n",
      "\n",
      "Question: I'm looking for publications on the adjustment of topological phases within the pseudospectrum domain through system parameter alteration.\n",
      "Starting node name: Pseudospectrum\n",
      "\n",
      "Other candidates for starting node: ['Pseudospectrum', 'Photonic quadrupole topological phases', 'Distributed parameter system']\n",
      "\n",
      "Question: Show me publications by A. C. Carnall that discuss the overview of the VANDELS spectroscopic survey.\n",
      "Starting node name: The VANDELS ESO public spectroscopic survey\n",
      "\n",
      "Other candidates for starting node: ['The VANDELS ESO public spectroscopic survey', 'A. C. Carnall']\n",
      "\n",
      "Question: Which scholarly articles related to the influential factors in polymer gel dosimetry have referenced or are connected to the study \"Preparation of polymer gel dosimeters based on less toxic monomers and gellan gum\"?\n",
      "Starting node name: Preparation of polymer gel dosimeters based on less toxic monomers and gellan gum.\n",
      "\n",
      "Other candidates for starting node: ['Preparation of polymer gel dosimeters based on less toxic monomers and gellan gum.', 'Polymer gel dosimetry', 'English articles']\n",
      "\n",
      "Question: Looking for 2018 papers on liquid crystalline materials in the Physics domain from the Institute of Chemical Technology, Prague.\n",
      "Starting node name: Institute of Chemical Technology in Prague\n",
      "\n",
      "Other candidates for starting node: ['Institute of Chemical Technology in Prague', 'Liquid Crystalline Materials', 'Physics Without Physics', 'The 2018 GaN power electronics roadmap']\n",
      "\n",
      "Question: Could you find publications that evaluate the performance of compact diplexer designs against traditional methods in diplexer technology?\n",
      "Starting node name: Diplexer\n",
      "\n",
      "Other candidates for starting node: ['Diplexer', 'Diplexer', 'Traditional knowledge']\n",
      "\n",
      "Question: Could you find papers that discuss narrow-band emission and either cite or are cited by the study \"Powerful linearly-polarized high-order random fiber laser pumped by broadband amplified spontaneous emission source\"?\n",
      "Starting node name: Powerful linearly-polarized high-order random fiber laser pumped by broadband amplified spontaneous emission source.\n",
      "\n",
      "Other candidates for starting node: ['Powerful linearly-polarized high-order random fiber laser pumped by broadband amplified spontaneous emission source.', 'Narrow-band imaging']\n",
      "\n",
      "Question: Show me research articles focused on analog electronic circuits examining the saturation behavior in FinFET transistors.\n",
      "Starting node name: Maxwell's demons realized in electronic circuits\n",
      "\n",
      "Other candidates for starting node: [\"Maxwell's demons realized in electronic circuits\", 'High saturation ferromagnetic behavior of Fe:BN nanoceramic', 'Effective drive current in steep slope FinFET (vs. conventional FinFET)']\n",
      "\n",
      "Question: Show me publications by Juan Guo on jet-induced filament eruptions.\n",
      "Starting node name: Juan-Juan Guo\n",
      "\n",
      "Other candidates for starting node: ['Juan-Juan Guo', 'Two-step solar filament eruptions']\n",
      "\n",
      "Question: Are there any papers by scholars at State University of New York, Cortland discussing phase contrast imaging diagnostic in the context of the Wendelstein 7-X stellarator fusion experiment?\n",
      "Starting node name: State University of New York at Cortland\n",
      "\n",
      "Other candidates for starting node: ['State University of New York at Cortland', 'From Wendelstein 7-X to a Stellarator Reactor', 'Development of a synthetic phase contrast imaging diagnostic']\n",
      "\n"
     ]
    }
   ],
   "source": [
    "for _, row in df[df['starting_node_matches'] == False].iterrows():\n",
    "    \n",
    "    sorted_central_node_names = [\n",
    "        graph.get_node_by_index(i).name for i in row['sorted_central_nodes_indices']\n",
    "    ]\n",
    "    print(f\"Question: {row['question']}\")\n",
    "    print(f\"Starting node name: {row['starting_node_name']}\\n\")\n",
    "    print(f\"Other candidates for starting node: {sorted_central_node_names}\\n\")\n",
    "    "
   ]
  },
  {
   "cell_type": "code",
   "execution_count": null,
   "id": "c40866c6",
   "metadata": {},
   "outputs": [],
   "source": []
  },
  {
   "cell_type": "code",
   "execution_count": null,
   "id": "ffa8cf32",
   "metadata": {},
   "outputs": [],
   "source": []
  }
 ],
 "metadata": {
  "kernelspec": {
   "display_name": ".venv",
   "language": "python",
   "name": "python3"
  },
  "language_info": {
   "codemirror_mode": {
    "name": "ipython",
    "version": 3
   },
   "file_extension": ".py",
   "mimetype": "text/x-python",
   "name": "python",
   "nbconvert_exporter": "python",
   "pygments_lexer": "ipython3",
   "version": "3.11.12"
  }
 },
 "nbformat": 4,
 "nbformat_minor": 5
}
