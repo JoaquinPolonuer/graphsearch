{
 "cells": [
  {
   "cell_type": "code",
   "execution_count": 31,
   "id": "6f0d7305",
   "metadata": {},
   "outputs": [],
   "source": [
    "import json\n",
    "import pandas as pd\n",
    "import os\n",
    "from pathlib import Path\n",
    "import sys\n",
    "\n",
    "sys.path.append(\"../\")\n",
    "\n",
    "from config import DATA_DIR\n",
    "from graph_types.graph import Graph\n",
    "\n",
    "graph = Graph.load(\"prime\")"
   ]
  },
  {
   "cell_type": "code",
   "execution_count": 32,
   "id": "c2fdf1b6",
   "metadata": {},
   "outputs": [],
   "source": [
    "logs_dir = DATA_DIR / f\"experiments/{graph.name}/subgraph_explorer\"\n",
    "json_files = sorted([f for f in logs_dir.glob(\"*.json\")])\n",
    "\n",
    "data = []\n",
    "\n",
    "for json_file in json_files:\n",
    "    with open(json_file, \"r\") as f:\n",
    "        log_data = json.load(f)\n",
    "\n",
    "    # Extract key information from each log entry\n",
    "    record = {\n",
    "        \"file_id\": int(json_file.stem),\n",
    "        \"question\": log_data.get(\"question\", \"\"),\n",
    "        \"all_nodes\": log_data.get(\"all_nodes\", []),\n",
    "        \"starting_nodes_indices\": log_data.get(\"starting_nodes_indices\", []),\n",
    "        \"agent_answer_indices\": log_data.get(\"agent_answer_indices\", []),\n",
    "        \"answer_indices\": log_data.get(\"answer_indices\", []),\n",
    "    }\n",
    "\n",
    "    data.append(record)\n",
    "\n",
    "df = pd.DataFrame(data).sort_values(by=\"file_id\").reset_index(drop=True)"
   ]
  },
  {
   "cell_type": "code",
   "execution_count": 33,
   "id": "38c701f8",
   "metadata": {},
   "outputs": [],
   "source": [
    "df[\"recall@all\"] = df.apply(\n",
    "    lambda row: len(set(row[\"answer_indices\"]).intersection(set(row[\"agent_answer_indices\"])))\n",
    "    / len(set(row[\"answer_indices\"])),\n",
    "    axis=1,\n",
    ")\n",
    "df[\"hit@1\"] = df.apply(\n",
    "    lambda row: row[\"agent_answer_indices\"][0] in row[\"answer_indices\"] if row[\"agent_answer_indices\"] else False,\n",
    "    axis=1,\n",
    ")\n",
    "df[\"hit@5\"] = df.apply(\n",
    "    lambda row: len(set(row[\"answer_indices\"]).intersection(set(row[\"agent_answer_indices\"][:5]))) > 0,\n",
    "    axis=1,\n",
    ")\n",
    "df[\"hit@10\"] = df.apply(\n",
    "    lambda row: len(set(row[\"answer_indices\"]).intersection(set(row[\"agent_answer_indices\"][:10]))) > 0,\n",
    "    axis=1,\n",
    ")\n",
    "df[\"recall@20\"] = df.apply(\n",
    "    lambda row: len(set(row[\"answer_indices\"]).intersection(set(row[\"agent_answer_indices\"][:20])))\n",
    "    / len(set(row[\"answer_indices\"])),\n",
    "    axis=1,\n",
    ")"
   ]
  },
  {
   "cell_type": "markdown",
   "id": "fd240608",
   "metadata": {},
   "source": [
    "### Metrics"
   ]
  },
  {
   "cell_type": "code",
   "execution_count": 34,
   "id": "3b7f83a1",
   "metadata": {},
   "outputs": [
    {
     "data": {
      "text/plain": [
       "[('Hit@1', 0.278),\n",
       " ('Hit@5', 0.611),\n",
       " ('Recall@20', 0.694),\n",
       " ('Recall@all', 0.694)]"
      ]
     },
     "execution_count": 34,
     "metadata": {},
     "output_type": "execute_result"
    }
   ],
   "source": [
    "[\n",
    "    (\"Hit@1\", float(round(df[\"hit@1\"].mean(), 3))),\n",
    "    (\"Hit@5\", float(round(df[\"hit@5\"].mean(), 3))),\n",
    "    (\"Recall@20\", float(round(df[\"recall@20\"].mean(), 3))),\n",
    "    (\"Recall@all\", float(round(df[\"recall@all\"].mean(), 3))),\n",
    "]"
   ]
  },
  {
   "cell_type": "code",
   "execution_count": null,
   "id": "ffa8cf32",
   "metadata": {},
   "outputs": [],
   "source": []
  }
 ],
 "metadata": {
  "kernelspec": {
   "display_name": ".venv",
   "language": "python",
   "name": "python3"
  },
  "language_info": {
   "codemirror_mode": {
    "name": "ipython",
    "version": 3
   },
   "file_extension": ".py",
   "mimetype": "text/x-python",
   "name": "python",
   "nbconvert_exporter": "python",
   "pygments_lexer": "ipython3",
   "version": "3.11.12"
  }
 },
 "nbformat": 4,
 "nbformat_minor": 5
}
