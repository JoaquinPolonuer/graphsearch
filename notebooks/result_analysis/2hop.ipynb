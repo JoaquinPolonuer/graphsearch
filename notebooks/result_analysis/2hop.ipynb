{
 "cells": [
  {
   "cell_type": "code",
   "execution_count": 4,
   "id": "6f0d7305",
   "metadata": {},
   "outputs": [],
   "source": [
    "import json\n",
    "import pandas as pd\n",
    "import os\n",
    "from pathlib import Path\n",
    "import sys\n",
    "\n",
    "sys.path.append(\"../../\")\n",
    "\n",
    "from config import DATA_DIR\n",
    "from graph_types.graph import Graph\n",
    "\n",
    "graph_name = \"mag\""
   ]
  },
  {
   "cell_type": "code",
   "execution_count": 5,
   "id": "c2fdf1b6",
   "metadata": {},
   "outputs": [
    {
     "data": {
      "text/plain": [
       "[('n', 100),\n",
       " ('Hit@1', 0.42),\n",
       " ('Hit@5', 0.67),\n",
       " ('Recall@20', 0.701),\n",
       " ('Recall@all', 0.94)]"
      ]
     },
     "execution_count": 5,
     "metadata": {},
     "output_type": "execute_result"
    }
   ],
   "source": [
    "logs_dir = DATA_DIR / f\"experiments/{graph_name}/2hop\"\n",
    "json_files = sorted([f for f in logs_dir.glob(\"*.json\")])\n",
    "\n",
    "data = []\n",
    "\n",
    "for json_file in json_files:\n",
    "    with open(json_file, \"r\") as f:\n",
    "        log_data = json.load(f)\n",
    "\n",
    "    # Extract key information from each log entry\n",
    "    record = {\n",
    "        \"file_id\": int(json_file.stem),\n",
    "        \"question\": log_data.get(\"question\", \"\"),\n",
    "        \"starting_node_index\": log_data.get(\n",
    "            \"starting_node_index\", log_data.get(\"sorted_central_nodes_indices\", [])[0]\n",
    "        ),\n",
    "        \"sorted_central_nodes_indices\": log_data.get(\"sorted_central_nodes_indices\", []),\n",
    "        \"sorted_candidates_indices\": log_data.get(\"sorted_candidates_indices\", []),\n",
    "        \"answer_type\": log_data.get(\"answer_type\", \"\"),\n",
    "        \"answer_indices\": log_data.get(\"answer_indices\", []),\n",
    "    }\n",
    "\n",
    "    data.append(record)\n",
    "\n",
    "df = pd.DataFrame(data).sort_values(by=\"file_id\").reset_index(drop=True)\n",
    "\n",
    "df[\"recall@all\"] = df.apply(\n",
    "    lambda row: len(set(row[\"answer_indices\"]).intersection(set(row[\"sorted_candidates_indices\"])))\n",
    "    / len(set(row[\"answer_indices\"])),\n",
    "    axis=1,\n",
    ")\n",
    "df[\"hit@1\"] = df.apply(\n",
    "    lambda row: (\n",
    "        row[\"sorted_candidates_indices\"][0] in row[\"answer_indices\"]\n",
    "        if row[\"sorted_candidates_indices\"]\n",
    "        else False\n",
    "    ),\n",
    "    axis=1,\n",
    ")\n",
    "df[\"hit@5\"] = df.apply(\n",
    "    lambda row: len(\n",
    "        set(row[\"answer_indices\"]).intersection(set(row[\"sorted_candidates_indices\"][:5]))\n",
    "    )\n",
    "    > 0,\n",
    "    axis=1,\n",
    ")\n",
    "df[\"hit@10\"] = df.apply(\n",
    "    lambda row: len(\n",
    "        set(row[\"answer_indices\"]).intersection(set(row[\"sorted_candidates_indices\"][:10]))\n",
    "    )\n",
    "    > 0,\n",
    "    axis=1,\n",
    ")\n",
    "df[\"recall@20\"] = df.apply(\n",
    "    lambda row: len(\n",
    "        set(row[\"answer_indices\"]).intersection(set(row[\"sorted_candidates_indices\"][:20]))\n",
    "    )\n",
    "    / len(set(row[\"answer_indices\"])),\n",
    "    axis=1,\n",
    ")\n",
    "\n",
    "[\n",
    "    (\"n\", len(df)),\n",
    "    (\"Hit@1\", float(round(df[\"hit@1\"].mean(), 3))),\n",
    "    (\"Hit@5\", float(round(df[\"hit@5\"].mean(), 3))),\n",
    "    (\"Recall@20\", float(round(df[\"recall@20\"].mean(), 3))),\n",
    "    (\"Recall@all\", float(round(df[\"recall@all\"].mean(), 3))),\n",
    "]"
   ]
  }
 ],
 "metadata": {
  "kernelspec": {
   "display_name": ".venv",
   "language": "python",
   "name": "python3"
  },
  "language_info": {
   "codemirror_mode": {
    "name": "ipython",
    "version": 3
   },
   "file_extension": ".py",
   "mimetype": "text/x-python",
   "name": "python",
   "nbconvert_exporter": "python",
   "pygments_lexer": "ipython3",
   "version": "3.11.12"
  }
 },
 "nbformat": 4,
 "nbformat_minor": 5
}
